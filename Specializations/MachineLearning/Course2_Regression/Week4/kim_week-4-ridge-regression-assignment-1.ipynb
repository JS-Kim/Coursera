{
 "cells": [
  {
   "cell_type": "code",
   "execution_count": 1,
   "metadata": {
    "collapsed": true
   },
   "outputs": [],
   "source": [
    "import graphlab"
   ]
  },
  {
   "cell_type": "markdown",
   "metadata": {},
   "source": [
    "# Polynomial regression, revisited"
   ]
  },
  {
   "cell_type": "markdown",
   "metadata": {},
   "source": [
    "We build on the material from Week 3, where we wrote the function to produce an SFrame with columns containing the powers of a given input. Copy and paste the function `polynomial_sframe` from Week 3:"
   ]
  },
  {
   "cell_type": "code",
   "execution_count": 2,
   "metadata": {
    "collapsed": true
   },
   "outputs": [],
   "source": [
    "def polynomial_sframe(feature, degree):\n",
    "    # assume that degree >= 1\n",
    "    # initialize the SFrame\n",
    "    poly_sframe = graphlab.SFrame()\n",
    "    # and set poly_sframe['power_1'] equal to the passed feature\n",
    "    poly_sframe['power_1'] = feature\n",
    "    # first check if degree > 1\n",
    "    if degree > 1:\n",
    "        #then loop over the remaining degrees:\n",
    "        for power in range(2, degree+1):\n",
    "            #first we'll give the column a name\n",
    "            col_name = 'power_' + str(power)\n",
    "            #assign poly_sframe[name] to the feature ^ power\n",
    "            poly_sframe[col_name] = feature ** power\n",
    "    return poly_sframe"
   ]
  },
  {
   "cell_type": "markdown",
   "metadata": {},
   "source": [
    "Let's use matplotlib to visualize what a polynomial regression looks like on the house data."
   ]
  },
  {
   "cell_type": "code",
   "execution_count": 3,
   "metadata": {
    "collapsed": false
   },
   "outputs": [
    {
     "name": "stderr",
     "output_type": "stream",
     "text": [
      "[INFO] GraphLab Create v1.8.2 started. Logging: /tmp/graphlab_server_1456122938.log\n"
     ]
    }
   ],
   "source": [
    "import matplotlib.pyplot as plt\n",
    "%matplotlib inline"
   ]
  },
  {
   "cell_type": "code",
   "execution_count": 4,
   "metadata": {
    "collapsed": true
   },
   "outputs": [],
   "source": [
    "sales = graphlab.SFrame('kc_house_data.gl/')"
   ]
  },
  {
   "cell_type": "markdown",
   "metadata": {},
   "source": [
    "As in Week 3, we will use the sqft_living variable. For plotting purposes (connecting the dots), you'll need to sort by the values of sqft_living. For houses with identical square footage, we break the tie by their prices."
   ]
  },
  {
   "cell_type": "code",
   "execution_count": 5,
   "metadata": {
    "collapsed": true
   },
   "outputs": [],
   "source": [
    "sales = sales.sort(['sqft_living', 'price'])"
   ]
  },
  {
   "cell_type": "markdown",
   "metadata": {},
   "source": [
    "Let us revisit the 15th-order polynomial model using the 'sqft_living' input. Generate polynomial features up to degree 15 using `polynomial_sframe()` and fit a model with these features. When fitting the model, use an L2 penalty of `1e-5`:"
   ]
  },
  {
   "cell_type": "code",
   "execution_count": 102,
   "metadata": {
    "collapsed": true
   },
   "outputs": [],
   "source": [
    "l2_small_penalty1 = 1e-5"
   ]
  },
  {
   "cell_type": "code",
   "execution_count": 103,
   "metadata": {
    "collapsed": true
   },
   "outputs": [],
   "source": [
    "poly15_data = polynomial_sframe(sales['sqft_living'], 15)\n",
    "my_features = poly15_data.column_names() # get the name of the features\n",
    "poly15_data['price'] = sales['price']"
   ]
  },
  {
   "cell_type": "markdown",
   "metadata": {},
   "source": [
    "Note: When we have so many features and so few data points, the solution can become highly numerically unstable, which can sometimes lead to strange unpredictable results.  Thus, rather than using no regularization, we will introduce a tiny amount of regularization (`l2_penalty=1e-5`) to make the solution numerically stable.  (In lecture, we discussed the fact that regularization can also help with numerical stability, and here we are seeing a practical example.)\n",
    "\n",
    "With the L2 penalty specified above, fit the model and print out the learned weights.\n",
    "\n",
    "Hint: make sure to add 'price' column to the new SFrame before calling `graphlab.linear_regression.create()`. Also, make sure GraphLab Create doesn't create its own validation set by using the option `validation_set=None` in this call."
   ]
  },
  {
   "cell_type": "code",
   "execution_count": 104,
   "metadata": {
    "collapsed": false
   },
   "outputs": [],
   "source": [
    "ridge_model = graphlab.linear_regression.create(poly15_data, \n",
    "                                              target='price', features=my_features, \n",
    "                                                l2_penalty=l2_small_penalty1,\n",
    "                                              validation_set=None,verbose=False)"
   ]
  },
  {
   "cell_type": "code",
   "execution_count": 105,
   "metadata": {
    "collapsed": false
   },
   "outputs": [
    {
     "name": "stdout",
     "output_type": "stream",
     "text": [
      "+-------------+-------+--------------------+-------------------+\n",
      "|     name    | index |       value        |       stderr      |\n",
      "+-------------+-------+--------------------+-------------------+\n",
      "| (intercept) |  None |   167924.855861    |   932257.186892   |\n",
      "|   power_1   |  None |    103.09095592    |   4735.64035967   |\n",
      "|   power_2   |  None |   0.13460454755    |   9.85916588414   |\n",
      "|   power_3   |  None | -0.000129071363621 |  0.0111681951166  |\n",
      "|   power_4   |  None | 5.18928964915e-08  | 7.69612916365e-06 |\n",
      "|   power_5   |  None | -7.77169343059e-12 | 3.40375275378e-09 |\n",
      "|   power_6   |  None | 1.71144917832e-16  | 9.86487804671e-13 |\n",
      "|   power_7   |  None | 4.51177946027e-20  | 1.85595593561e-16 |\n",
      "|   power_8   |  None | -4.78840959928e-25 | 2.13680012359e-20 |\n",
      "|   power_9   |  None | -2.33343401694e-28 | 1.22638025544e-24 |\n",
      "|   power_10  |  None | -7.29021980005e-33 | 3.82656969545e-29 |\n",
      "|   power_11  |  None | 7.22828482444e-37  |  4.2913989084e-33 |\n",
      "|   power_12  |  None | 6.90470640373e-41  |        nan        |\n",
      "|   power_13  |  None | -3.65841502981e-46 | 4.80348305186e-41 |\n",
      "|   power_14  |  None | -3.79575904401e-49 | 2.76882853975e-45 |\n",
      "|   power_15  |  None | 1.13723105979e-53  |  5.3228104629e-50 |\n",
      "+-------------+-------+--------------------+-------------------+\n",
      "[16 rows x 4 columns]\n",
      "\n"
     ]
    }
   ],
   "source": [
    "ridge_model.get(\"coefficients\").print_rows(num_rows = 16)"
   ]
  },
  {
   "cell_type": "markdown",
   "metadata": {},
   "source": [
    "***QUIZ QUESTION:  What's the learned value for the coefficient of feature `power_1`?***"
   ]
  },
  {
   "cell_type": "markdown",
   "metadata": {},
   "source": [
    "137.412347708 (using 1.5e-5)\n",
    "\n",
    "103.09095592 (using 1e-5)"
   ]
  },
  {
   "cell_type": "markdown",
   "metadata": {},
   "source": [
    "# Observe overfitting"
   ]
  },
  {
   "cell_type": "markdown",
   "metadata": {},
   "source": [
    "Recall from Week 3 that the polynomial fit of degree 15 changed wildly whenever the data changed. In particular, when we split the sales data into four subsets and fit the model of degree 15, the result came out to be very different for each subset. The model had a *high variance*. We will see in a moment that ridge regression reduces such variance. But first, we must reproduce the experiment we did in Week 3."
   ]
  },
  {
   "cell_type": "markdown",
   "metadata": {},
   "source": [
    "First, split the data into split the sales data into four subsets of roughly equal size and call them `set_1`, `set_2`, `set_3`, and `set_4`. Use `.random_split` function and make sure you set `seed=0`. "
   ]
  },
  {
   "cell_type": "code",
   "execution_count": 20,
   "metadata": {
    "collapsed": true
   },
   "outputs": [],
   "source": [
    "(semi_split1, semi_split2) = sales.random_split(.5,seed=0)\n",
    "(set_1, set_2) = semi_split1.random_split(0.5, seed=0)\n",
    "(set_3, set_4) = semi_split2.random_split(0.5, seed=0)"
   ]
  },
  {
   "cell_type": "markdown",
   "metadata": {},
   "source": [
    "Next, fit a 15th degree polynomial on `set_1`, `set_2`, `set_3`, and `set_4`, using 'sqft_living' to predict prices. Print the weights and make a plot of the resulting model.\n",
    "\n",
    "Hint: When calling `graphlab.linear_regression.create()`, use the same L2 penalty as before (i.e. `l2_small_penalty`).  Also, make sure GraphLab Create doesn't create its own validation set by using the option `validation_set = None` in this call."
   ]
  },
  {
   "cell_type": "code",
   "execution_count": 21,
   "metadata": {
    "collapsed": true
   },
   "outputs": [],
   "source": [
    "poly15_dataset_1 = graphlab.SFrame()\n",
    "poly15_dataset_1 = polynomial_sframe(set_1['sqft_living'], 15)\n",
    "my_features_set1 = poly15_dataset_1.column_names() # get the name of the features\n",
    "poly15_dataset_1['price'] = set_1['price']\n",
    "\n",
    "poly15_dataset_2 = graphlab.SFrame()\n",
    "poly15_dataset_2 = polynomial_sframe(set_2['sqft_living'], 15)\n",
    "my_features_set2 = poly15_dataset_2.column_names() # get the name of the features\n",
    "poly15_dataset_2['price'] = set_2['price']\n",
    "\n",
    "poly15_dataset_3 = graphlab.SFrame()\n",
    "poly15_dataset_3 = polynomial_sframe(set_3['sqft_living'], 15)\n",
    "my_features_set3 = poly15_dataset_3.column_names() # get the name of the features\n",
    "poly15_dataset_3['price'] = set_3['price']\n",
    "\n",
    "poly15_dataset_4 = graphlab.SFrame()\n",
    "poly15_dataset_4 = polynomial_sframe(set_4['sqft_living'], 15)\n",
    "my_features_set4 = poly15_dataset_4.column_names() # get the name of the features\n",
    "poly15_dataset_4['price'] = set_4['price']"
   ]
  },
  {
   "cell_type": "code",
   "execution_count": 118,
   "metadata": {
    "collapsed": false
   },
   "outputs": [
    {
     "name": "stdout",
     "output_type": "stream",
     "text": [
      "+-------------+-------+--------------------+-------------------+\n",
      "|     name    | index |       value        |       stderr      |\n",
      "+-------------+-------+--------------------+-------------------+\n",
      "| (intercept) |  None |   1676.88486318    |   1256000.08982   |\n",
      "|   power_1   |  None |    608.61465132    |   6003.40361437   |\n",
      "|   power_2   |  None |  -0.421984153102   |   11.9615547364   |\n",
      "|   power_3   |  None | 0.000153797420248  |  0.0131347719712  |\n",
      "|   power_4   |  None | -1.81202251743e-08 | 8.84863225398e-06 |\n",
      "|   power_5   |  None | -1.88380684716e-13 | 3.83743517607e-09 |\n",
      "|   power_6   |  None | 8.42892999297e-17  | 1.08409739666e-12 |\n",
      "|   power_7   |  None |  8.1886993898e-21  | 1.93504679159e-16 |\n",
      "|   power_8   |  None | -5.1488266065e-26  | 1.89388202577e-20 |\n",
      "|   power_9   |  None | -6.25215798751e-29 |        nan        |\n",
      "|   power_10  |  None | -5.13002119568e-33 |  3.4960189029e-29 |\n",
      "|   power_11  |  None | -7.80622149436e-38 | 2.50644736986e-33 |\n",
      "|   power_12  |  None | 2.49439310387e-41  | 1.15357907554e-36 |\n",
      "|   power_13  |  None | 2.96266618958e-45  |  1.5681259276e-40 |\n",
      "|   power_14  |  None | 1.08572271881e-49  | 7.93337699378e-45 |\n",
      "|   power_15  |  None | -1.85496595416e-53 | 1.49156788325e-49 |\n",
      "+-------------+-------+--------------------+-------------------+\n",
      "[16 rows x 4 columns]\n",
      "\n",
      "+-------------+-------+--------------------+-------------------+\n",
      "|     name    | index |       value        |       stderr      |\n",
      "+-------------+-------+--------------------+-------------------+\n",
      "| (intercept) |  None |   11497.2515406    |   1573134.38921   |\n",
      "|   power_1   |  None |   673.934728858    |    9294.6775783   |\n",
      "|   power_2   |  None |  -0.652153371993   |   23.3989079256   |\n",
      "|   power_3   |  None | 0.000388538138332  |  0.0331234777464  |\n",
      "|   power_4   |  None | -1.10247234651e-07 |  2.9374688584e-05 |\n",
      "|   power_5   |  None |  9.4455109742e-12  | 1.72050441742e-08 |\n",
      "|   power_6   |  None | 1.86449069356e-15  | 6.82534939531e-12 |\n",
      "|   power_7   |  None | -2.14190170427e-19 | 1.84522758347e-15 |\n",
      "|   power_8   |  None | -3.65136024098e-23 | 3.35320932115e-19 |\n",
      "|   power_9   |  None | 5.04195433671e-28  | 3.78737022959e-23 |\n",
      "|   power_10  |  None | 5.38992629749e-31  |        nan        |\n",
      "|   power_11  |  None | 5.11389804865e-35  |        nan        |\n",
      "|   power_12  |  None | -1.26176265298e-39 |        nan        |\n",
      "|   power_13  |  None | -8.67403971107e-43 |        nan        |\n",
      "|   power_14  |  None | -8.05941252187e-47 | 2.33537956387e-43 |\n",
      "|   power_15  |  None |  1.0969013424e-50  | 6.72132690175e-48 |\n",
      "+-------------+-------+--------------------+-------------------+\n",
      "[16 rows x 4 columns]\n",
      "\n",
      "+-------------+-------+--------------------+-------------------+\n",
      "|     name    | index |       value        |       stderr      |\n",
      "+-------------+-------+--------------------+-------------------+\n",
      "| (intercept) |  None |   432563.748301    |        nan        |\n",
      "|   power_1   |  None |   -681.700050651   |        nan        |\n",
      "|   power_2   |  None |   0.962655066902   |        nan        |\n",
      "|   power_3   |  None | -0.000510990370683 |        nan        |\n",
      "|   power_4   |  None |  1.1962613221e-07  |        nan        |\n",
      "|   power_5   |  None | -5.20750937245e-12 |        nan        |\n",
      "|   power_6   |  None | -1.67199818496e-15 |        nan        |\n",
      "|   power_7   |  None | 5.78939457318e-20  |        nan        |\n",
      "|   power_8   |  None | 2.11993913316e-23  |        nan        |\n",
      "|   power_9   |  None | 8.51303190004e-28  |        nan        |\n",
      "|   power_10  |  None | -1.50115121802e-31 |        nan        |\n",
      "|   power_11  |  None | -2.35604524981e-35 |        nan        |\n",
      "|   power_12  |  None | -7.55921041564e-40 | 3.22085227257e-36 |\n",
      "|   power_13  |  None | 1.97826512566e-43  | 3.81443435059e-40 |\n",
      "|   power_14  |  None |  2.7800806715e-47  | 9.99125173354e-45 |\n",
      "|   power_15  |  None | -2.27073481929e-51 |        nan        |\n",
      "+-------------+-------+--------------------+-------------------+\n",
      "[16 rows x 4 columns]\n",
      "\n",
      "+-------------+-------+--------------------+-------------------+\n",
      "|     name    | index |       value        |       stderr      |\n",
      "+-------------+-------+--------------------+-------------------+\n",
      "| (intercept) |  None |   -165030.236873   |   1543874.30104   |\n",
      "|   power_1   |  None |   1250.93134331    |   9978.92995203   |\n",
      "|   power_2   |  None |   -1.2655388724    |   26.7151918338   |\n",
      "|   power_3   |  None | 0.000613088990235  |   0.03920923677   |\n",
      "|   power_4   |  None | -9.77247684971e-08 | 3.51282080561e-05 |\n",
      "|   power_5   |  None | -1.32628127198e-11 | 2.00582848476e-08 |\n",
      "|   power_6   |  None |  4.2929600898e-15  | 7.23485541955e-12 |\n",
      "|   power_7   |  None | 2.76023952774e-19  | 1.43064913467e-15 |\n",
      "|   power_8   |  None | -7.09674854411e-23 |        nan        |\n",
      "|   power_9   |  None | -1.0321375923e-26  |        nan        |\n",
      "|   power_10  |  None | 2.11485255242e-31  | 5.64559541795e-27 |\n",
      "|   power_11  |  None | 1.94473192959e-34  | 9.66833509145e-31 |\n",
      "|   power_12  |  None | 1.81109800132e-38  |        nan        |\n",
      "|   power_13  |  None |  -1.447352163e-42  |        nan        |\n",
      "|   power_14  |  None | -4.68736610862e-46 | 2.37655972068e-43 |\n",
      "|   power_15  |  None | 3.36040756976e-50  |  1.1635447944e-47 |\n",
      "+-------------+-------+--------------------+-------------------+\n",
      "[16 rows x 4 columns]\n",
      "\n"
     ]
    }
   ],
   "source": [
    "#l2_small_penalty=1e-9\n",
    "l2_small_penalty1 = 1.5e-5\n",
    "model_set_1 = graphlab.linear_regression.create(poly15_dataset_1, target='price', \n",
    "                                                features = my_features_set1, l2_penalty=l2_small_penalty1,\n",
    "                                                validation_set = None,verbose=False)\n",
    "\n",
    "model_set_2 = graphlab.linear_regression.create(poly15_dataset_2, target='price', l2_penalty=l2_small_penalty1,\n",
    "                                                features = my_features_set2, validation_set = None,verbose=False)\n",
    "model_set_3 = graphlab.linear_regression.create(poly15_dataset_3, target='price',l2_penalty=l2_small_penalty1,\n",
    "                                                features = my_features_set3, validation_set = None,verbose=False)\n",
    "model_set_4 = graphlab.linear_regression.create(poly15_dataset_4, target='price', l2_penalty=l2_small_penalty1,\n",
    "                                                features = my_features_set4, validation_set = None,verbose=False)\n",
    "\n",
    "model_set_1.get(\"coefficients\").print_rows(num_rows = 16)\n",
    "model_set_2.get(\"coefficients\").print_rows(num_rows = 16)\n",
    "model_set_3.get(\"coefficients\").print_rows(num_rows = 16)\n",
    "model_set_4.get(\"coefficients\").print_rows(num_rows = 16)"
   ]
  },
  {
   "cell_type": "code",
   "execution_count": 119,
   "metadata": {
    "collapsed": false
   },
   "outputs": [
    {
     "data": {
      "text/plain": [
       "[<matplotlib.lines.Line2D at 0x11717c410>,\n",
       " <matplotlib.lines.Line2D at 0x11717c650>]"
      ]
     },
     "execution_count": 119,
     "metadata": {},
     "output_type": "execute_result"
    },
    {
     "data": {
      "image/png": "[encoded data removed]",
      "text/plain": [
       "<matplotlib.figure.Figure at 0x117d4d750>"
      ]
     },
     "metadata": {},
     "output_type": "display_data"
    }
   ],
   "source": [
    "plt.plot(poly15_dataset_1['power_1'], poly15_dataset_1['price'], '.',\n",
    "        poly15_dataset_1['power_1'], model_set_1.predict(poly15_dataset_1), '-')"
   ]
  },
  {
   "cell_type": "code",
   "execution_count": 120,
   "metadata": {
    "collapsed": false
   },
   "outputs": [
    {
     "data": {
      "text/plain": [
       "[<matplotlib.lines.Line2D at 0x119866390>,\n",
       " <matplotlib.lines.Line2D at 0x1198665d0>]"
      ]
     },
     "execution_count": 120,
     "metadata": {},
     "output_type": "execute_result"
    },
    {
     "data": {
      "image/png": "[encoded data removed]",
      "text/plain": [
       "<matplotlib.figure.Figure at 0x117c2e6d0>"
      ]
     },
     "metadata": {},
     "output_type": "display_data"
    }
   ],
   "source": [
    "plt.plot(poly15_dataset_2['power_1'], poly15_dataset_2['price'], '.',\n",
    "        poly15_dataset_2['power_1'], model_set_2.predict(poly15_dataset_2), '-')"
   ]
  },
  {
   "cell_type": "code",
   "execution_count": 121,
   "metadata": {
    "collapsed": false
   },
   "outputs": [
    {
     "data": {
      "text/plain": [
       "[<matplotlib.lines.Line2D at 0x11f573390>,\n",
       " <matplotlib.lines.Line2D at 0x11f5735d0>]"
      ]
     },
     "execution_count": 121,
     "metadata": {},
     "output_type": "execute_result"
    },
    {
     "data": {
      "image/png": "[encoded data removed]",
      "text/plain": [
       "<matplotlib.figure.Figure at 0x113640750>"
      ]
     },
     "metadata": {},
     "output_type": "display_data"
    }
   ],
   "source": [
    "plt.plot(poly15_dataset_3['power_1'], poly15_dataset_3['price'], '.',\n",
    "        poly15_dataset_3['power_1'], model_set_3.predict(poly15_dataset_3), '-')"
   ]
  },
  {
   "cell_type": "code",
   "execution_count": 122,
   "metadata": {
    "collapsed": false
   },
   "outputs": [
    {
     "data": {
      "text/plain": [
       "[<matplotlib.lines.Line2D at 0x1252010d0>,\n",
       " <matplotlib.lines.Line2D at 0x125201310>]"
      ]
     },
     "execution_count": 122,
     "metadata": {},
     "output_type": "execute_result"
    },
    {
     "data": {
      "image/png": "[encoded data removed]",
      "text/plain": [
       "<matplotlib.figure.Figure at 0x119898250>"
      ]
     },
     "metadata": {},
     "output_type": "display_data"
    }
   ],
   "source": [
    "plt.plot(poly15_dataset_4['power_1'], poly15_dataset_4['price'], '.',\n",
    "        poly15_dataset_4['power_1'], model_set_4.predict(poly15_dataset_4), '-')"
   ]
  },
  {
   "cell_type": "markdown",
   "metadata": {},
   "source": [
    "The four curves should differ from one another a lot, as should the coefficients you learned.\n",
    "\n",
    "***QUIZ QUESTION:  For the models learned in each of these training sets, what are the smallest and largest values you learned for the coefficient of feature `power_1`?***  (For the purpose of answering this question, negative numbers are considered \"smaller\" than positive numbers. So -5 is smaller than -3, and -3 is smaller than 5 and so forth.)\n",
    "\n",
    "-->-4232.71449853, 2946.38334665\n"
   ]
  },
  {
   "cell_type": "code",
   "execution_count": 123,
   "metadata": {
    "collapsed": false
   },
   "outputs": [
    {
     "name": "stdout",
     "output_type": "stream",
     "text": [
      "+-------------+-------+---------------+---------------+\n",
      "|     name    | index |     value     |     stderr    |\n",
      "+-------------+-------+---------------+---------------+\n",
      "| (intercept) |  None | 1676.88486318 | 1256000.08982 |\n",
      "|   power_1   |  None |  608.61465132 | 6003.40361437 |\n",
      "+-------------+-------+---------------+---------------+\n",
      "[16 rows x 4 columns]\n",
      "\n",
      "+-------------+-------+---------------+---------------+\n",
      "|     name    | index |     value     |     stderr    |\n",
      "+-------------+-------+---------------+---------------+\n",
      "| (intercept) |  None | 11497.2515406 | 1573134.38921 |\n",
      "|   power_1   |  None | 673.934728858 |  9294.6775783 |\n",
      "+-------------+-------+---------------+---------------+\n",
      "[16 rows x 4 columns]\n",
      "\n",
      "+-------------+-------+----------------+--------+\n",
      "|     name    | index |     value      | stderr |\n",
      "+-------------+-------+----------------+--------+\n",
      "| (intercept) |  None | 432563.748301  |  nan   |\n",
      "|   power_1   |  None | -681.700050651 |  nan   |\n",
      "+-------------+-------+----------------+--------+\n",
      "[16 rows x 4 columns]\n",
      "\n",
      "+-------------+-------+----------------+---------------+\n",
      "|     name    | index |     value      |     stderr    |\n",
      "+-------------+-------+----------------+---------------+\n",
      "| (intercept) |  None | -165030.236873 | 1543874.30104 |\n",
      "|   power_1   |  None | 1250.93134331  | 9978.92995203 |\n",
      "+-------------+-------+----------------+---------------+\n",
      "[16 rows x 4 columns]\n",
      "\n"
     ]
    }
   ],
   "source": [
    "model_set_1.get(\"coefficients\").print_rows(num_rows = 2)\n",
    "model_set_2.get(\"coefficients\").print_rows(num_rows = 2)\n",
    "model_set_3.get(\"coefficients\").print_rows(num_rows = 2)\n",
    "model_set_4.get(\"coefficients\").print_rows(num_rows = 2)"
   ]
  },
  {
   "cell_type": "markdown",
   "metadata": {},
   "source": [
    "# Ridge regression comes to rescue"
   ]
  },
  {
   "cell_type": "markdown",
   "metadata": {},
   "source": [
    "Generally, whenever we see weights change so much in response to change in data, we believe the variance of our estimate to be large. Ridge regression aims to address this issue by penalizing \"large\" weights. (Weights of `model15` looked quite small, but they are not that small because 'sqft_living' input is in the order of thousands.)\n",
    "\n",
    "With the argument `l2_penalty=1e5`, fit a 15th-order polynomial model on `set_1`, `set_2`, `set_3`, and `set_4`. Other than the change in the `l2_penalty` parameter, the code should be the same as the experiment above. Also, make sure GraphLab Create doesn't create its own validation set by using the option `validation_set = None` in this call."
   ]
  },
  {
   "cell_type": "code",
   "execution_count": 101,
   "metadata": {
    "collapsed": false
   },
   "outputs": [
    {
     "name": "stdout",
     "output_type": "stream",
     "text": [
      "+-------------+-------+-------------------+-------------------+\n",
      "|     name    | index |       value       |       stderr      |\n",
      "+-------------+-------+-------------------+-------------------+\n",
      "| (intercept) |  None |   530317.024516   |   1890090.19151   |\n",
      "|   power_1   |  None |   2.58738875673   |   9034.21455077   |\n",
      "|   power_2   |  None |  0.00127414400592 |    18.000330944   |\n",
      "|   power_3   |  None | 1.74934226932e-07 |   0.019765845458  |\n",
      "|   power_4   |  None | 1.06022119097e-11 | 1.33158533722e-05 |\n",
      "|   power_5   |  None | 5.42247604482e-16 | 5.77475960841e-09 |\n",
      "|   power_6   |  None | 2.89563828343e-20 | 1.63140263499e-12 |\n",
      "|   power_7   |  None | 1.65000666351e-24 | 2.91195278612e-16 |\n",
      "|   power_8   |  None | 9.86081528409e-29 | 2.85000603886e-20 |\n",
      "|   power_9   |  None | 6.06589348254e-33 |        nan        |\n",
      "|   power_10  |  None |  3.7891786887e-37 | 5.26097974934e-29 |\n",
      "|   power_11  |  None | 2.38223121312e-41 | 3.77182424405e-33 |\n",
      "|   power_12  |  None | 1.49847969215e-45 | 1.73596205406e-36 |\n",
      "|   power_13  |  None | 9.39161190285e-50 | 2.35979237489e-40 |\n",
      "|   power_14  |  None | 5.84523161981e-54 | 1.19385326188e-44 |\n",
      "|   power_15  |  None | 3.60120207203e-58 | 2.24458409594e-49 |\n",
      "+-------------+-------+-------------------+-------------------+\n",
      "[16 rows x 4 columns]\n",
      "\n",
      "+-------------+-------+-------------------+-------------------+\n",
      "|     name    | index |       value       |       stderr      |\n",
      "+-------------+-------+-------------------+-------------------+\n",
      "| (intercept) |  None |   519216.897383   |   2167962.96521   |\n",
      "|   power_1   |  None |   2.04470474182   |   12809.1515268   |\n",
      "|   power_2   |  None |  0.0011314362684  |   32.2464286313   |\n",
      "|   power_3   |  None | 2.93074277549e-07 |  0.0456480218892  |\n",
      "|   power_4   |  None | 4.43540598453e-11 |  4.0481752482e-05 |\n",
      "|   power_5   |  None | 4.80849112204e-15 | 2.37105608016e-08 |\n",
      "|   power_6   |  None | 4.53091707826e-19 | 9.40612881847e-12 |\n",
      "|   power_7   |  None | 4.16042910575e-23 | 2.54293917341e-15 |\n",
      "|   power_8   |  None | 3.90094635128e-27 | 4.62111417353e-19 |\n",
      "|   power_9   |  None |  3.7773187602e-31 | 5.21943862496e-23 |\n",
      "|   power_10  |  None | 3.76650326842e-35 |        nan        |\n",
      "|   power_11  |  None | 3.84228094754e-39 |        nan        |\n",
      "|   power_12  |  None | 3.98520828414e-43 |        nan        |\n",
      "|   power_13  |  None | 4.18272762394e-47 |        nan        |\n",
      "|   power_14  |  None | 4.42738332878e-51 | 3.21842586299e-43 |\n",
      "|   power_15  |  None | 4.71518245412e-55 | 9.26277367022e-48 |\n",
      "+-------------+-------+-------------------+-------------------+\n",
      "[16 rows x 4 columns]\n",
      "\n",
      "+-------------+-------+-------------------+-------------------+\n",
      "|     name    | index |       value       |       stderr      |\n",
      "+-------------+-------+-------------------+-------------------+\n",
      "| (intercept) |  None |   522911.518048   |        nan        |\n",
      "|   power_1   |  None |   2.26890421877   |        nan        |\n",
      "|   power_2   |  None |  0.00125905041842 |        nan        |\n",
      "|   power_3   |  None | 2.77552918155e-07 |        nan        |\n",
      "|   power_4   |  None |  3.2093309779e-11 |        nan        |\n",
      "|   power_5   |  None | 2.87573572364e-15 |        nan        |\n",
      "|   power_6   |  None | 2.50076112671e-19 |        nan        |\n",
      "|   power_7   |  None | 2.24685265906e-23 |        nan        |\n",
      "|   power_8   |  None | 2.09349983135e-27 |        nan        |\n",
      "|   power_9   |  None | 2.00435383296e-31 |        nan        |\n",
      "|   power_10  |  None | 1.95410800249e-35 |        nan        |\n",
      "|   power_11  |  None | 1.92734119456e-39 |        nan        |\n",
      "|   power_12  |  None | 1.91483699013e-43 | 4.48927924896e-36 |\n",
      "|   power_13  |  None | 1.91102277046e-47 | 5.31662415021e-40 |\n",
      "|   power_14  |  None | 1.91246242302e-51 | 1.39259783693e-44 |\n",
      "|   power_15  |  None | 1.91699558035e-55 |        nan        |\n",
      "+-------------+-------+-------------------+-------------------+\n",
      "[16 rows x 4 columns]\n",
      "\n",
      "+-------------+-------+-------------------+-------------------+\n",
      "|     name    | index |       value       |       stderr      |\n",
      "+-------------+-------+-------------------+-------------------+\n",
      "| (intercept) |  None |   513667.087087   |   2041482.90233   |\n",
      "|   power_1   |  None |   1.91040938244   |   13195.2548642   |\n",
      "|   power_2   |  None |  0.00110058029175 |   35.3258081465   |\n",
      "|   power_3   |  None | 3.12753987879e-07 |   0.051846828738  |\n",
      "|   power_4   |  None | 5.50067886825e-11 | 4.64504371162e-05 |\n",
      "|   power_5   |  None | 7.20467557825e-15 | 2.65233027965e-08 |\n",
      "|   power_6   |  None | 8.24977249384e-19 | 9.56673326956e-12 |\n",
      "|   power_7   |  None | 9.06503223498e-23 | 1.89176395105e-15 |\n",
      "|   power_8   |  None | 9.95683160453e-27 |        nan        |\n",
      "|   power_9   |  None | 1.10838127982e-30 |        nan        |\n",
      "|   power_10  |  None | 1.25315224143e-34 | 7.46523632876e-27 |\n",
      "|   power_11  |  None | 1.43600781402e-38 | 1.27845516761e-30 |\n",
      "|   power_12  |  None |  1.662699678e-42  |        nan        |\n",
      "|   power_13  |  None |  1.9398172453e-46 |        nan        |\n",
      "|   power_14  |  None |  2.2754148577e-50 | 3.14255249462e-43 |\n",
      "|   power_15  |  None | 2.67948784897e-54 |  1.5385687826e-47 |\n",
      "+-------------+-------+-------------------+-------------------+\n",
      "[16 rows x 4 columns]\n",
      "\n"
     ]
    }
   ],
   "source": [
    "#l2_large_penalty=1.23e2\n",
    "l2_large_penalty=1e5\n",
    "large_model_set_1 = graphlab.linear_regression.create(poly15_dataset_1, target='price', \n",
    "                                                features = my_features_set1, l2_penalty=l2_large_penalty,\n",
    "                                                validation_set = None,verbose=False)\n",
    "\n",
    "large_model_set_2 = graphlab.linear_regression.create(poly15_dataset_2, target='price', l2_penalty=l2_large_penalty,\n",
    "                                                features = my_features_set1, \n",
    "                                                validation_set = None,verbose=False)\n",
    "large_model_set_3 = graphlab.linear_regression.create(poly15_dataset_3, target='price',l2_penalty=l2_large_penalty,\n",
    "                                                features = my_features_set2, \n",
    "                                                validation_set = None,verbose=False)\n",
    "large_model_set_4 = graphlab.linear_regression.create(poly15_dataset_4, target='price', l2_penalty=l2_large_penalty,\n",
    "                                                features = my_features_set3, \n",
    "                                                validation_set = None,verbose=False)\n",
    "\n",
    "large_model_set_1.get(\"coefficients\").print_rows(num_rows = 16)\n",
    "large_model_set_2.get(\"coefficients\").print_rows(num_rows = 16)\n",
    "large_model_set_3.get(\"coefficients\").print_rows(num_rows = 16)\n",
    "large_model_set_4.get(\"coefficients\").print_rows(num_rows = 16)"
   ]
  },
  {
   "cell_type": "markdown",
   "metadata": {},
   "source": [
    "These curves should vary a lot less, now that you applied a high degree of regularization.\n",
    "\n",
    "***11 QUIZ QUESTION:  For the models learned with the high level of regularization in each of these training sets, what are the smallest and largest values you learned for the coefficient of feature `power_1`?*** (For the purpose of answering this question, negative numbers are considered \"smaller\" than positive numbers. So -5 is smaller than -3, and -3 is smaller than 5 and so forth.)\n",
    "\n",
    "-->48.250267247, 74.2229191646 (using 1.23e2)\n",
    "\n",
    "-->1.91040938244, 2.58738875673(using 1e5)"
   ]
  },
  {
   "cell_type": "code",
   "execution_count": 44,
   "metadata": {
    "collapsed": false
   },
   "outputs": [
    {
     "data": {
      "text/plain": [
       "[<matplotlib.lines.Line2D at 0x1131b9150>,\n",
       " <matplotlib.lines.Line2D at 0x1131b9390>]"
      ]
     },
     "execution_count": 44,
     "metadata": {},
     "output_type": "execute_result"
    },
    {
     "data": {
      "image/png": "[encoded data removed]",
      "text/plain": [
       "<matplotlib.figure.Figure at 0x117136e10>"
      ]
     },
     "metadata": {},
     "output_type": "display_data"
    }
   ],
   "source": [
    "plt.plot(poly15_dataset_1['power_1'], poly15_dataset_1['price'], '.',\n",
    "        poly15_dataset_1['power_1'], large_model_set_1.predict(poly15_dataset_1), '-')"
   ]
  },
  {
   "cell_type": "code",
   "execution_count": 45,
   "metadata": {
    "collapsed": false
   },
   "outputs": [
    {
     "data": {
      "text/plain": [
       "[<matplotlib.lines.Line2D at 0x11a46fc50>,\n",
       " <matplotlib.lines.Line2D at 0x11a46fe90>]"
      ]
     },
     "execution_count": 45,
     "metadata": {},
     "output_type": "execute_result"
    },
    {
     "data": {
      "image/png": "[encoded data removed]",
      "text/plain": [
       "<matplotlib.figure.Figure at 0x1107db510>"
      ]
     },
     "metadata": {},
     "output_type": "display_data"
    }
   ],
   "source": [
    "plt.plot(poly15_dataset_2['power_1'], poly15_dataset_2['price'], '.',\n",
    "        poly15_dataset_2['power_1'], large_model_set_2.predict(poly15_dataset_2), '-')"
   ]
  },
  {
   "cell_type": "code",
   "execution_count": 46,
   "metadata": {
    "collapsed": false
   },
   "outputs": [
    {
     "data": {
      "text/plain": [
       "[<matplotlib.lines.Line2D at 0x11c3c5b90>,\n",
       " <matplotlib.lines.Line2D at 0x1131c7a50>]"
      ]
     },
     "execution_count": 46,
     "metadata": {},
     "output_type": "execute_result"
    },
    {
     "data": {
      "image/png": "[encoded data removed]",
      "text/plain": [
       "<matplotlib.figure.Figure at 0x113779c10>"
      ]
     },
     "metadata": {},
     "output_type": "display_data"
    }
   ],
   "source": [
    "plt.plot(poly15_dataset_3['power_1'], poly15_dataset_3['price'], '.',\n",
    "        poly15_dataset_3['power_1'], large_model_set_3.predict(poly15_dataset_3), '-')"
   ]
  },
  {
   "cell_type": "code",
   "execution_count": 47,
   "metadata": {
    "collapsed": false
   },
   "outputs": [
    {
     "data": {
      "text/plain": [
       "[<matplotlib.lines.Line2D at 0x11d7acf90>,\n",
       " <matplotlib.lines.Line2D at 0x11d7ba1d0>]"
      ]
     },
     "execution_count": 47,
     "metadata": {},
     "output_type": "execute_result"
    },
    {
     "data": {
      "image/png": "[encoded data removed]",
      "text/plain": [
       "<matplotlib.figure.Figure at 0x11cd6f450>"
      ]
     },
     "metadata": {},
     "output_type": "display_data"
    }
   ],
   "source": [
    "plt.plot(poly15_dataset_4['power_1'], poly15_dataset_4['price'], '.',\n",
    "        poly15_dataset_4['power_1'], large_model_set_4.predict(poly15_dataset_4), '-')"
   ]
  },
  {
   "cell_type": "markdown",
   "metadata": {},
   "source": [
    "# Selecting an L2 penalty via cross-validation"
   ]
  },
  {
   "cell_type": "markdown",
   "metadata": {},
   "source": [
    "Just like the polynomial degree, the L2 penalty is a \"magic\" parameter we need to select. We could use the validation set approach as we did in the last module, but that approach has a major disadvantage: it leaves fewer observations available for training. **Cross-validation** seeks to overcome this issue by using all of the training set in a smart way.\n",
    "\n",
    "We will implement a kind of cross-validation called **k-fold cross-validation**. The method gets its name because it involves dividing the training set into k segments of roughtly equal size. Similar to the validation set method, we measure the validation error with one of the segments designated as the validation set. The major difference is that we repeat the process k times as follows:\n",
    "\n",
    "Set aside segment 0 as the validation set, and fit a model on rest of data, and evalutate it on this validation set<br>\n",
    "Set aside segment 1 as the validation set, and fit a model on rest of data, and evalutate it on this validation set<br>\n",
    "...<br>\n",
    "Set aside segment k-1 as the validation set, and fit a model on rest of data, and evalutate it on this validation set\n",
    "\n",
    "After this process, we compute the average of the k validation errors, and use it as an estimate of the generalization error. Notice that  all observations are used for both training and validation, as we iterate over segments of data. \n",
    "\n",
    "To estimate the generalization error well, it is crucial to shuffle the training data before dividing them into segments. GraphLab Create has a utility function for shuffling a given SFrame. We reserve 10% of the data as the test set and shuffle the remainder. (Make sure to use `seed=1` to get consistent answer.)"
   ]
  },
  {
   "cell_type": "code",
   "execution_count": 58,
   "metadata": {
    "collapsed": true
   },
   "outputs": [],
   "source": [
    "(train_valid, test) = sales.random_split(.9, seed=1)\n",
    "train_valid_shuffled = graphlab.toolkits.cross_validation.shuffle(train_valid, random_seed=1)"
   ]
  },
  {
   "cell_type": "markdown",
   "metadata": {},
   "source": [
    "Once the data is shuffled, we divide it into equal segments. Each segment should receive `n/k` elements, where `n` is the number of observations in the training set and `k` is the number of segments. Since the segment 0 starts at index 0 and contains `n/k` elements, it ends at index `(n/k)-1`. The segment 1 starts where the segment 0 left off, at index `(n/k)`. With `n/k` elements, the segment 1 ends at index `(n*2/k)-1`. Continuing in this fashion, we deduce that the segment `i` starts at index `(n*i/k)` and ends at `(n*(i+1)/k)-1`.\n",
    "\n",
    "With this pattern in mind, we write a short loop that prints the starting and ending indices of each segment, just to make sure you are getting the splits right."
   ]
  },
  {
   "cell_type": "code",
   "execution_count": 59,
   "metadata": {
    "collapsed": false
   },
   "outputs": [
    {
     "name": "stdout",
     "output_type": "stream",
     "text": [
      "0 (0, 1938)\n",
      "1 (1939, 3878)\n",
      "2 (3879, 5817)\n",
      "3 (5818, 7757)\n",
      "4 (7758, 9697)\n",
      "5 (9698, 11636)\n",
      "6 (11637, 13576)\n",
      "7 (13577, 15515)\n",
      "8 (15516, 17455)\n",
      "9 (17456, 19395)\n"
     ]
    }
   ],
   "source": [
    "n = len(train_valid_shuffled)\n",
    "k = 10 # 10-fold cross-validation\n",
    "\n",
    "for i in xrange(k):\n",
    "    start = (n*i)/k\n",
    "    end = (n*(i+1))/k-1\n",
    "    print i, (start, end)"
   ]
  },
  {
   "cell_type": "markdown",
   "metadata": {},
   "source": [
    "Let us familiarize ourselves with array slicing with SFrame. To extract a continuous slice from an SFrame, use colon in square brackets. For instance, the following cell extracts rows 0 to 9 of `train_valid_shuffled`. Notice that the first index (0) is included in the slice but the last index (10) is omitted."
   ]
  },
  {
   "cell_type": "code",
   "execution_count": null,
   "metadata": {
    "collapsed": false
   },
   "outputs": [],
   "source": [
    "train_valid_shuffled[0:10] # rows 0 to 9"
   ]
  },
  {
   "cell_type": "markdown",
   "metadata": {},
   "source": [
    "Now let us extract individual segments with array slicing. Consider the scenario where we group the houses in the `train_valid_shuffled` dataframe into k=10 segments of roughly equal size, with starting and ending indices computed as above.\n",
    "Extract the fourth segment (segment 3) and assign it to a variable called `validation4`."
   ]
  },
  {
   "cell_type": "code",
   "execution_count": 71,
   "metadata": {
    "collapsed": false
   },
   "outputs": [
    {
     "name": "stdout",
     "output_type": "stream",
     "text": [
      "5818 7757\n"
     ]
    }
   ],
   "source": [
    "#start = (n*i)/k\n",
    "#end = (n*(i+1))/k - 1\n",
    "#train_valid_shuffled[start:end+1]\n",
    "    \n",
    "start = (n*3)/10\n",
    "end = (n*(3+1))/10 -1\n",
    "print start, end\n",
    "validation4 =train_valid_shuffled[start:end+1]"
   ]
  },
  {
   "cell_type": "markdown",
   "metadata": {},
   "source": [
    "To verify that we have the right elements extracted, run the following cell, which computes the average price of the fourth segment. When rounded to nearest whole number, the average should be $536,234."
   ]
  },
  {
   "cell_type": "code",
   "execution_count": 72,
   "metadata": {
    "collapsed": false
   },
   "outputs": [
    {
     "name": "stdout",
     "output_type": "stream",
     "text": [
      "536234\n"
     ]
    }
   ],
   "source": [
    "print int(round(validation4['price'].mean(), 0))"
   ]
  },
  {
   "cell_type": "markdown",
   "metadata": {},
   "source": [
    "After designating one of the k segments as the validation set, we train a model using the rest of the data. To choose the remainder, we slice (0:start) and (end+1:n) of the data and paste them together. SFrame has `append()` method that pastes together two disjoint sets of rows originating from a common dataset. For instance, the following cell pastes together the first and last two rows of the `train_valid_shuffled` dataframe."
   ]
  },
  {
   "cell_type": "code",
   "execution_count": null,
   "metadata": {
    "collapsed": false
   },
   "outputs": [],
   "source": [
    "n = len(train_valid_shuffled)\n",
    "first_two = train_valid_shuffled[0:2]\n",
    "last_two = train_valid_shuffled[n-2:n]\n",
    "print first_two.append(last_two)"
   ]
  },
  {
   "cell_type": "markdown",
   "metadata": {},
   "source": [
    "Extract the remainder of the data after *excluding* fourth segment (segment 3) and assign the subset to `train4`."
   ]
  },
  {
   "cell_type": "code",
   "execution_count": 78,
   "metadata": {
    "collapsed": true
   },
   "outputs": [],
   "source": [
    "start = (n*3)/10\n",
    "end = (n*(3+1))/10 -1\n",
    "\n",
    "first_3 = train_valid_shuffled[0:start]\n",
    "remainder = train_valid_shuffled[end+1:n]\n",
    "train4 = first_3.append(remainder)"
   ]
  },
  {
   "cell_type": "markdown",
   "metadata": {},
   "source": [
    "To verify that we have the right elements extracted, run the following cell, which computes the average price of the data with fourth segment excluded. When rounded to nearest whole number, the average should be $539,450."
   ]
  },
  {
   "cell_type": "code",
   "execution_count": 79,
   "metadata": {
    "collapsed": false
   },
   "outputs": [
    {
     "name": "stdout",
     "output_type": "stream",
     "text": [
      "539450\n"
     ]
    }
   ],
   "source": [
    "print int(round(train4['price'].mean(), 0))"
   ]
  },
  {
   "cell_type": "markdown",
   "metadata": {},
   "source": [
    "Now we are ready to implement k-fold cross-validation. Write a function that computes k validation errors by designating each of the k segments as the validation set. It accepts as parameters (i) `k`, (ii) `l2_penalty`, (iii) dataframe, (iv) name of output column (e.g. `price`) and (v) list of feature names. The function returns the average validation error using k segments as validation sets.\n",
    "\n",
    "* For each i in [0, 1, ..., k-1]:\n",
    "  * Compute starting and ending indices of segment i and call 'start' and 'end'\n",
    "  * Form validation set by taking a slice (start:end+1) from the data.\n",
    "  * Form training set by appending slice (end+1:n) to the end of slice (0:start).\n",
    "  * Train a linear model using training set just formed, with a given l2_penalty\n",
    "  * Compute validation error (RSS) using validation set just formed"
   ]
  },
  {
   "cell_type": "code",
   "execution_count": 89,
   "metadata": {
    "collapsed": false
   },
   "outputs": [],
   "source": [
    "def k_fold_cross_validation(k, l2_penalty, data, output, features_list):\n",
    "    n = len(data)\n",
    "    sum_validation_error = 0\n",
    "    for i in xrange(k):\n",
    "        start = (n*i) / k\n",
    "        end = (n*(i+1)) / k -1\n",
    "        validation_set = data[start:end+1]\n",
    "        training_set = data[0:start].append(data[end+1:n])\n",
    "        ridge_model = graphlab.linear_regression.create(data, target=output, \n",
    "                                                features = features_list,\n",
    "                                                l2_penalty=l2_penalty,\n",
    "                                                validation_set = None,verbose=False)\n",
    "        predict_price = ridge_model.predict(validation_set)\n",
    "        term = predict_price- validation_set[output]\n",
    "        val = (term * term).sum()\n",
    "\n",
    "        sum_validation_error += val\n",
    "    average_validation_error = sum_validation_error / n\n",
    "    return (average_validation_error)"
   ]
  },
  {
   "cell_type": "markdown",
   "metadata": {},
   "source": [
    "Once we have a function to compute the average validation error for a model, we can write a loop to find the model that minimizes the average validation error. Write a loop that does the following:\n",
    "\n",
    "* We will again be aiming to fit a 15th-order polynomial model using the sqft_living input\n",
    "* For each l2_penalty in [10^3, 10^3.5, 10^4, 10^4.5, ..., 10^9] (to get this in Python, you can use this Numpy function: np.logspace(3, 9, num=13).): Run 10-fold cross-validation with l2_penalty.\n",
    "* Report which L2 penalty produced the lowest average validation error."
   ]
  },
  {
   "cell_type": "markdown",
   "metadata": {},
   "source": [
    "Note: since the degree of the polynomial is now fixed to 15, to make things faster, you should generate polynomial features in advance and re-use them throughout the loop. Make sure to use train_valid_shuffled when generating polynomial features!"
   ]
  },
  {
   "cell_type": "code",
   "execution_count": 95,
   "metadata": {
    "collapsed": false
   },
   "outputs": [
    {
     "name": "stdout",
     "output_type": "stream",
     "text": [
      "l2_penalty\n",
      "1000.0\n",
      "average_validation_error\n",
      "61958182887.8\n",
      "l2_penalty\n",
      "3162.27766017\n",
      "average_validation_error\n",
      "63496568650.9\n",
      "l2_penalty\n",
      "10000.0\n",
      "average_validation_error\n",
      "69255871433.2\n",
      "l2_penalty\n",
      "31622.7766017\n",
      "average_validation_error\n",
      "85160894431.2\n",
      "l2_penalty\n",
      "100000.0\n",
      "average_validation_error\n",
      "1.07762117949e+11\n",
      "l2_penalty\n",
      "316227.766017\n",
      "average_validation_error\n",
      "1.24047444947e+11\n",
      "l2_penalty\n",
      "1000000.0\n",
      "average_validation_error\n",
      "1.32119854868e+11\n",
      "l2_penalty\n",
      "3162277.66017\n",
      "average_validation_error\n",
      "1.35411385395e+11\n",
      "l2_penalty\n",
      "10000000.0\n",
      "average_validation_error\n",
      "1.36578281482e+11\n",
      "l2_penalty\n",
      "31622776.6017\n",
      "average_validation_error\n",
      "1.36963007313e+11\n",
      "l2_penalty\n",
      "100000000.0\n",
      "average_validation_error\n",
      "1.37086366772e+11\n",
      "l2_penalty\n",
      "316227766.017\n",
      "average_validation_error\n",
      "1.37125550655e+11\n",
      "l2_penalty\n",
      "1000000000.0\n",
      "average_validation_error\n",
      "1.37137959247e+11\n",
      "61958182887.8\n"
     ]
    }
   ],
   "source": [
    "import numpy as np\n",
    "\n",
    "data_15 = polynomial_sframe(train_valid_shuffled['sqft_living'], 15)\n",
    "my_features = data_15.column_names() # get the name of the features\n",
    "data_15['price'] = train_valid_shuffled['price']\n",
    "\n",
    "error_list = []\n",
    "for l2_penalty in np.logspace(3, 9, num=13):\n",
    "    error = k_fold_cross_validation(10, l2_penalty, data_15, 'price', my_features)\n",
    "    error_list.append(error)\n",
    "    print 'l2_penalty'\n",
    "    print l2_penalty\n",
    "    print 'average_validation_error'\n",
    "    print error\n",
    "\n",
    "print min(error_list)"
   ]
  },
  {
   "cell_type": "markdown",
   "metadata": {},
   "source": [
    "*** 17. Quiz Question: What is the best value for the L2 penalty according to 10-fold validation?\n",
    "\n",
    "1000"
   ]
  },
  {
   "cell_type": "markdown",
   "metadata": {},
   "source": [
    "*** 18. Once you found the best value for the L2 penalty using cross-validation, it is important to retrain a final model on all of the training data using this value of l2_penalty. This way, your final model will be trained on the entire dataset.\n",
    "\n",
    "*** 19. Quiz Question: Using the best L2 penalty found above, train a model using all training data. What is the RSS on the TEST data of the model you learn with this L2 penalty?"
   ]
  },
  {
   "cell_type": "code",
   "execution_count": 97,
   "metadata": {
    "collapsed": false
   },
   "outputs": [
    {
     "name": "stdout",
     "output_type": "stream",
     "text": [
      "2.52897427447e+14\n"
     ]
    }
   ],
   "source": [
    "best_model = graphlab.linear_regression.create(data_15, target='price', \n",
    "                                features = my_features,\n",
    "                                l2_penalty=1000,\n",
    "                                validation_set = None,verbose=False)\n",
    "predict_value = best_model.predict(test)\n",
    "term = predict_value - test['price']\n",
    "val = (term * term).sum()\n",
    "print val"
   ]
  },
  {
   "cell_type": "code",
   "execution_count": null,
   "metadata": {
    "collapsed": true
   },
   "outputs": [],
   "source": []
  }
 ],
 "metadata": {
  "kernelspec": {
   "display_name": "Python 2",
   "language": "python",
   "name": "python2"
  },
  "language_info": {
   "codemirror_mode": {
    "name": "ipython",
    "version": 2
   },
   "file_extension": ".py",
   "mimetype": "text/x-python",
   "name": "python",
   "nbconvert_exporter": "python",
   "pygments_lexer": "ipython2",
   "version": "2.7.10"
  }
 },
 "nbformat": 4,
 "nbformat_minor": 0
}
