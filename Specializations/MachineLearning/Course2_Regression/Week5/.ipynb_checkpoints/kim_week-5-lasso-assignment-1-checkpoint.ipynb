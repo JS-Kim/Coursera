{
 "cells": [
  {
   "cell_type": "markdown",
   "metadata": {},
   "source": [
    "# Regression Week 5: Feature Selection and LASSO (Interpretation)"
   ]
  },
  {
   "cell_type": "markdown",
   "metadata": {},
   "source": [
    "In this notebook, you will use LASSO to select features, building on a pre-implemented solver for LASSO (using GraphLab Create, though you can use other solvers). You will:\n",
    "* Run LASSO with different L1 penalties.\n",
    "* Choose best L1 penalty using a validation set.\n",
    "* Choose best L1 penalty using a validation set, with additional constraint on the size of subset.\n",
    "\n",
    "In the second notebook, you will implement your own LASSO solver, using coordinate descent. "
   ]
  },
  {
   "cell_type": "markdown",
   "metadata": {},
   "source": [
    "# Fire up graphlab create"
   ]
  },
  {
   "cell_type": "code",
   "execution_count": 2,
   "metadata": {
    "collapsed": false
   },
   "outputs": [],
   "source": [
    "import graphlab\n",
    "import numpy as np"
   ]
  },
  {
   "cell_type": "markdown",
   "metadata": {},
   "source": [
    "# Load in house sales data\n",
    "\n",
    "Dataset is from house sales in King County, the region where the city of Seattle, WA is located."
   ]
  },
  {
   "cell_type": "code",
   "execution_count": 4,
   "metadata": {
    "collapsed": false
   },
   "outputs": [],
   "source": [
    "sales = graphlab.SFrame('kc_house_data.gl/')"
   ]
  },
  {
   "cell_type": "markdown",
   "metadata": {},
   "source": [
    "# Create new features"
   ]
  },
  {
   "cell_type": "markdown",
   "metadata": {},
   "source": [
    "As in Week 2, we consider features that are some transformations of inputs."
   ]
  },
  {
   "cell_type": "code",
   "execution_count": 5,
   "metadata": {
    "collapsed": false
   },
   "outputs": [],
   "source": [
    "from math import log, sqrt\n",
    "sales['sqft_living_sqrt'] = sales['sqft_living'].apply(sqrt)\n",
    "sales['sqft_lot_sqrt'] = sales['sqft_lot'].apply(sqrt)\n",
    "sales['bedrooms_square'] = sales['bedrooms'] * sales['bedrooms']\n",
    "\n",
    "#in the dataset, 'floors' was defined with type string,\n",
    "#so we will convert them to float, before creating a new feature\n",
    "sales['floors'] = sales['floors'].astype(float)\n",
    "sales['floors_square'] = sales['floors'] * sales['floors']"
   ]
  },
  {
   "cell_type": "markdown",
   "metadata": {},
   "source": [
    "* Squaring bedrooms will increase the separation between not many bedrooms (e.g. 1) and lots of bedrooms (e.g. 4) since 1^2 = 1 but 4^2 = 16. Consequently this variable will mostly affect houses with many bedrooms.\n",
    "* On the other hand, taking square root of sqft_living will decrease the separation between big house and small house. The owner may not be exactly twice as happy for getting a house that is twice as big."
   ]
  },
  {
   "cell_type": "markdown",
   "metadata": {},
   "source": [
    "# Learn regression weights with L1 penalty"
   ]
  },
  {
   "cell_type": "markdown",
   "metadata": {},
   "source": [
    "Let us fit a model with all the features available, plus the features we just created above."
   ]
  },
  {
   "cell_type": "code",
   "execution_count": 6,
   "metadata": {
    "collapsed": true
   },
   "outputs": [],
   "source": [
    "all_features = ['bedrooms', 'bedrooms_square',\n",
    "            'bathrooms',\n",
    "            'sqft_living', 'sqft_living_sqrt',\n",
    "            'sqft_lot', 'sqft_lot_sqrt',\n",
    "            'floors', 'floors_square',\n",
    "            'waterfront', 'view', 'condition', 'grade',\n",
    "            'sqft_above',\n",
    "            'sqft_basement',\n",
    "            'yr_built', 'yr_renovated']"
   ]
  },
  {
   "cell_type": "markdown",
   "metadata": {},
   "source": [
    "Applying L1 penalty requires adding an extra parameter (`l1_penalty`) to the linear regression call in GraphLab Create. (Other tools may have separate implementations of LASSO.)  Note that it's important to set `l2_penalty=0` to ensure we don't introduce an additional L2 penalty."
   ]
  },
  {
   "cell_type": "code",
   "execution_count": 7,
   "metadata": {
    "collapsed": false
   },
   "outputs": [],
   "source": [
    "model_all = graphlab.linear_regression.create(sales, target='price', features=all_features,\n",
    "                                              validation_set=None, verbose=False,\n",
    "                                              l2_penalty=0., l1_penalty=1e10) "
   ]
  },
  {
   "cell_type": "markdown",
   "metadata": {},
   "source": [
    "Find what features had non-zero weight.\n",
    "\n",
    "** 3. Quiz Question: Which features have been chosen by LASSO, i.e. which features were assigned nonzero weights? **"
   ]
  },
  {
   "cell_type": "code",
   "execution_count": 8,
   "metadata": {
    "collapsed": false
   },
   "outputs": [
    {
     "name": "stdout",
     "output_type": "stream",
     "text": [
      "number of nonzeros = 6\n",
      "274873.05595\n",
      "8468.53108691\n",
      "24.4207209824\n",
      "350.060553386\n",
      "842.068034898\n",
      "20.0247224171\n"
     ]
    }
   ],
   "source": [
    "print 'number of nonzeros = %d' % (model_all.coefficients['value']).nnz()\n",
    "w_list = list(model_all.coefficients['value'])\n",
    "for w in w_list:\n",
    "    if not w: continue\n",
    "    print w"
   ]
  },
  {
   "cell_type": "markdown",
   "metadata": {},
   "source": [
    "Note that a majority of the weights have been set to zero. So by setting an L1 penalty that's large enough, we are performing a subset selection. \n",
    "\n",
    "***QUIZ QUESTION***:\n",
    "According to this list of weights, which of the features have been chosen? "
   ]
  },
  {
   "cell_type": "code",
   "execution_count": 9,
   "metadata": {
    "collapsed": false
   },
   "outputs": [
    {
     "name": "stdout",
     "output_type": "stream",
     "text": [
      "+------------------+-------+---------------+--------+\n",
      "|       name       | index |     value     | stderr |\n",
      "+------------------+-------+---------------+--------+\n",
      "|   (intercept)    |  None |  274873.05595 |  None  |\n",
      "|     bedrooms     |  None |      0.0      |  None  |\n",
      "| bedrooms_square  |  None |      0.0      |  None  |\n",
      "|    bathrooms     |  None | 8468.53108691 |  None  |\n",
      "|   sqft_living    |  None | 24.4207209824 |  None  |\n",
      "| sqft_living_sqrt |  None | 350.060553386 |  None  |\n",
      "|     sqft_lot     |  None |      0.0      |  None  |\n",
      "|  sqft_lot_sqrt   |  None |      0.0      |  None  |\n",
      "|      floors      |  None |      0.0      |  None  |\n",
      "|  floors_square   |  None |      0.0      |  None  |\n",
      "|    waterfront    |  None |      0.0      |  None  |\n",
      "|       view       |  None |      0.0      |  None  |\n",
      "|    condition     |  None |      0.0      |  None  |\n",
      "|      grade       |  None | 842.068034898 |  None  |\n",
      "|    sqft_above    |  None | 20.0247224171 |  None  |\n",
      "|  sqft_basement   |  None |      0.0      |  None  |\n",
      "|     yr_built     |  None |      0.0      |  None  |\n",
      "|   yr_renovated   |  None |      0.0      |  None  |\n",
      "+------------------+-------+---------------+--------+\n",
      "[18 rows x 4 columns]\n",
      "\n"
     ]
    }
   ],
   "source": [
    "model_all.coefficients.print_rows(num_rows=18)"
   ]
  },
  {
   "cell_type": "markdown",
   "metadata": {},
   "source": [
    "# Selecting an L1 penalty"
   ]
  },
  {
   "cell_type": "markdown",
   "metadata": {},
   "source": [
    "To find a good L1 penalty, we will explore multiple values using a validation set. Let us do three way split into train, validation, and test sets:\n",
    "* Split our sales data into 2 sets: training and test\n",
    "* Further split our training data into two sets: train, validation\n",
    "\n",
    "** Be *very* careful that you use seed = 1 to ensure you get the same answer! **"
   ]
  },
  {
   "cell_type": "code",
   "execution_count": 10,
   "metadata": {
    "collapsed": true
   },
   "outputs": [],
   "source": [
    "(training_and_validation, testing) = sales.random_split(.9,seed=1) # initial train/test split\n",
    "(training, validation) = training_and_validation.random_split(0.5, seed=1) # split training into train and validate"
   ]
  },
  {
   "cell_type": "markdown",
   "metadata": {},
   "source": [
    "Next, we write a loop that does the following:\n",
    "* For `l1_penalty` in [10^1, 10^1.5, 10^2, 10^2.5, ..., 10^7] (to get this in Python, type `np.logspace(1, 7, num=13)`.)\n",
    "    * Fit a regression model with a given `l1_penalty` on TRAIN data. Specify `l1_penalty=l1_penalty` and `l2_penalty=0.` in the parameter list.\n",
    "    * Compute the RSS on VALIDATION data (here you will want to use `.predict()`) for that `l1_penalty`\n",
    "* Report which `l1_penalty` produced the lowest RSS on validation data.\n",
    "\n",
    "When you call `linear_regression.create()` make sure you set `validation_set = None`.\n",
    "\n",
    "Note: you can turn off the print out of `linear_regression.create()` with `verbose = False`"
   ]
  },
  {
   "cell_type": "code",
   "execution_count": 11,
   "metadata": {
    "collapsed": false
   },
   "outputs": [
    {
     "name": "stdout",
     "output_type": "stream",
     "text": [
      "l1_penalty = 1.000000e+01\n",
      "l1_penalty = 1.000000e+01, RSS = 625766285142459.875000\n",
      "l1_penalty = 3.162278e+01\n",
      "l1_penalty = 3.162278e+01, RSS = 625766285362394.125000\n",
      "l1_penalty = 1.000000e+02\n",
      "l1_penalty = 1.000000e+02, RSS = 625766286057885.000000\n",
      "l1_penalty = 3.162278e+02\n",
      "l1_penalty = 3.162278e+02, RSS = 625766288257224.625000\n",
      "l1_penalty = 1.000000e+03\n",
      "l1_penalty = 1.000000e+03, RSS = 625766295212186.750000\n",
      "l1_penalty = 3.162278e+03\n",
      "l1_penalty = 3.162278e+03, RSS = 625766317206080.500000\n",
      "l1_penalty = 1.000000e+04\n",
      "l1_penalty = 1.000000e+04, RSS = 625766386760658.125000\n",
      "l1_penalty = 3.162278e+04\n",
      "l1_penalty = 3.162278e+04, RSS = 625766606749278.500000\n",
      "l1_penalty = 1.000000e+05\n",
      "l1_penalty = 1.000000e+05, RSS = 625767302791634.125000\n",
      "l1_penalty = 3.162278e+05\n",
      "l1_penalty = 3.162278e+05, RSS = 625769507643886.250000\n",
      "l1_penalty = 1.000000e+06\n",
      "l1_penalty = 1.000000e+06, RSS = 625776517727024.000000\n",
      "l1_penalty = 3.162278e+06\n",
      "l1_penalty = 3.162278e+06, RSS = 625799062845467.000000\n",
      "l1_penalty = 1.000000e+07\n",
      "l1_penalty = 1.000000e+07, RSS = 625883719085425.250000\n",
      "minimum RSS: 625766285142459.875000\n"
     ]
    }
   ],
   "source": [
    "RSS_list = []\n",
    "for l1_penalty in np.logspace(1, 7, num=13):\n",
    "    lasso_model = graphlab.linear_regression.create(training, target='price', features=all_features,\n",
    "                                              validation_set=None, verbose=False,\n",
    "                                              l2_penalty=0., l1_penalty=l1_penalty)\n",
    "    print 'l1_penalty = %e' % l1_penalty\n",
    "    predict_price = lasso_model.predict(validation)\n",
    "    term = predict_price- validation['price']\n",
    "    RSS = (term * term).sum()\n",
    "    RSS_list.append(RSS)\n",
    "    print 'l1_penalty = %e, RSS = %f' % (l1_penalty, RSS)\n",
    "\n",
    "print 'minimum RSS: %f' % min(RSS_list)"
   ]
  },
  {
   "cell_type": "markdown",
   "metadata": {},
   "source": [
    "*** QUIZ QUESTIONS ***\n",
    "1. What was the best value for the `l1_penalty`? 10^1\n",
    "2. What is the RSS on TEST data of the model with the best `l1_penalty`?"
   ]
  },
  {
   "cell_type": "code",
   "execution_count": 12,
   "metadata": {
    "collapsed": false
   },
   "outputs": [
    {
     "name": "stdout",
     "output_type": "stream",
     "text": [
      "6.25883719085e+14\n",
      "18\n"
     ]
    }
   ],
   "source": [
    "lasso_model = graphlab.linear_regression.create(training, target='price', features=all_features,\n",
    "                                              validation_set=None, verbose=False,\n",
    "                                              l2_penalty=0., l1_penalty=10.0)\n",
    "predict_price_test= lasso_model.predict(testing)\n",
    "term_test = predict_price_test- testing['price']\n",
    "RSS_test = (term * term).sum()\n",
    "print RSS_test\n",
    "\n",
    "nonzero = (lasso_model.coefficients['value']).nnz()\n",
    "print nonzero"
   ]
  },
  {
   "cell_type": "markdown",
   "metadata": {},
   "source": [
    "# Limit the number of nonzero weights\n",
    "\n",
    "What if we absolutely wanted to limit ourselves to, say, 7 features? This may be important if we want to derive \"a rule of thumb\" --- an interpretable model that has only a few features in them."
   ]
  },
  {
   "cell_type": "markdown",
   "metadata": {},
   "source": [
    "In this section, you are going to implement a simple, two phase procedure to achive this goal:\n",
    "1. Explore a large range of `l1_penalty` values to find a narrow region of `l1_penalty` values where models are likely to have the desired number of non-zero weights.\n",
    "2. Further explore the narrow region you found to find a good value for `l1_penalty` that achieves the desired sparsity.  Here, we will again use a validation set to choose the best value for `l1_penalty`."
   ]
  },
  {
   "cell_type": "code",
   "execution_count": 13,
   "metadata": {
    "collapsed": true
   },
   "outputs": [],
   "source": [
    "max_nonzeros = 7"
   ]
  },
  {
   "cell_type": "markdown",
   "metadata": {},
   "source": [
    "## Exploring the larger range of values to find a narrow range with the desired sparsity\n",
    "\n",
    "Let's define a wide range of possible `l1_penalty_values`:"
   ]
  },
  {
   "cell_type": "code",
   "execution_count": 14,
   "metadata": {
    "collapsed": false
   },
   "outputs": [
    {
     "data": {
      "text/plain": [
       "array([  1.00000000e+08,   1.27427499e+08,   1.62377674e+08,\n",
       "         2.06913808e+08,   2.63665090e+08,   3.35981829e+08,\n",
       "         4.28133240e+08,   5.45559478e+08,   6.95192796e+08,\n",
       "         8.85866790e+08,   1.12883789e+09,   1.43844989e+09,\n",
       "         1.83298071e+09,   2.33572147e+09,   2.97635144e+09,\n",
       "         3.79269019e+09,   4.83293024e+09,   6.15848211e+09,\n",
       "         7.84759970e+09,   1.00000000e+10])"
      ]
     },
     "execution_count": 14,
     "metadata": {},
     "output_type": "execute_result"
    }
   ],
   "source": [
    "l1_penalty_values = np.logspace(8, 10, num=20)\n",
    "l1_penalty_values"
   ]
  },
  {
   "cell_type": "markdown",
   "metadata": {},
   "source": [
    "Now, implement a loop that search through this space of possible `l1_penalty` values:\n",
    "\n",
    "* For `l1_penalty` in `np.logspace(8, 10, num=20)`:\n",
    "    * Fit a regression model with a given `l1_penalty` on TRAIN data. Specify `l1_penalty=l1_penalty` and `l2_penalty=0.` in the parameter list. When you call `linear_regression.create()` make sure you set `validation_set = None`\n",
    "    * Extract the weights of the model and count the number of nonzeros. Save the number of nonzeros to a list.\n",
    "        * *Hint: `model['coefficients']['value']` gives you an SArray with the parameters you learned.  If you call the method `.nnz()` on it, you will find the number of non-zero parameters!* "
   ]
  },
  {
   "cell_type": "code",
   "execution_count": 15,
   "metadata": {
    "collapsed": false
   },
   "outputs": [
    {
     "name": "stdout",
     "output_type": "stream",
     "text": [
      "l1_penalty = 1.000000e+08, nonzeros = 18\n",
      "[25090.917367212027, 7789.177061100565, 847.5596869428746, 25234.209194458632, 39.03944596356858, 1117.3118955675666, -0.025686118239919543, 143.98899196976993, 20695.35923964388, 12466.690650291855, 568204.6445841154, 91066.94280879853, 6360.780926249808, 6139.2128056478905, 43.035829924605586, 118.94587495435255, 9.040401654020448, 48.61546730927457]\n",
      "l1_penalty = 1.274275e+08, nonzeros = 18\n",
      "[26746.661936635508, 7743.979047849886, 822.358945250938, 25178.625930586946, 39.010718135253995, 1114.9107159232667, -0.018663073722782936, 142.51979784137154, 20545.867304697553, 12339.245250245602, 558930.2470718035, 90439.72185124886, 6288.009465538855, 6118.412320616764, 42.95755676813044, 117.99004260104351, 8.924085433195646, 46.56185624767168]\n",
      "l1_penalty = 1.623777e+08, nonzeros = 18\n",
      "[28873.181016622384, 7691.047075686332, 790.9175796843559, 25115.27853451593, 38.98207881320865, 1112.2394146479912, -0.02473736058080104, 140.9458447508174, 20365.265896852696, 12181.186257705758, 547143.1801789048, 89651.6923915873, 6199.959965996101, 6094.1313865452685, 42.86718404798591, 116.7893252862552, 8.784328577071959, 43.95345985745588]\n",
      "l1_penalty = 2.069138e+08, nonzeros = 18\n",
      "[31564.606473324213, 7618.567764636504, 750.1709548829197, 25026.177407617197, 38.935915253109734, 1108.3863193708141, -0.01774476275138433, 138.3853259458783, 20124.746720019702, 11975.49776169613, 532082.0756272506, 88631.04255545628, 6082.626008198676, 6060.6779112246695, 42.74031497907825, 115.24303664623336, 8.596902634509652, 40.62156230142574]\n",
      "l1_penalty = 2.636651e+08, nonzeros = 17\n",
      "[34954.67174323056, 7515.377482147861, 696.7853594765766, 24894.556092358773, 38.856140639033626, 1102.5056436481414, 0.0, 133.90030719388716, 19795.93033118664, 11704.228054783032, 512800.5801387105, 87294.44208081363, 5922.041895353969, 6012.6238340951695, 42.55324369173369, 113.23793182751548, 8.337936513644951, 36.35851942869655]\n",
      "l1_penalty = 3.359818e+08, nonzeros = 17\n",
      "[39314.615048616324, 7394.882889515538, 630.2530312218136, 24745.12178980744, 38.77550601691833, 1095.9906971335572, 0.0, 129.3716081662337, 19399.66700712912, 11367.957471896074, 488319.7480290306, 85626.78665609902, 5728.632165362397, 5956.871755685232, 42.34028399496754, 110.71867715722652, 8.028336789396947, 30.944030938872295]\n",
      "l1_penalty = 4.281332e+08, nonzeros = 17\n",
      "[44909.33791831114, 7253.293148190762, 547.5924623737077, 24570.685895261584, 38.68228127230279, 1088.3818684231671, 0.0, 121.98711365252674, 18922.821613870317, 10954.471871806505, 457135.2571203196, 83487.12784485535, 5493.39678143304, 5890.403907087823, 42.076686259389646, 107.57670840450736, 7.65350461442852, 24.076198253079756]\n",
      "l1_penalty = 5.455595e+08, nonzeros = 17\n",
      "[52030.03008056483, 7070.216615668923, 441.7750840911413, 24344.88205500959, 38.56150502802323, 1078.536813999621, 0.0, 112.95992577319848, 18308.867236448703, 10424.128529714346, 417398.76313595125, 80764.70244793859, 5191.188382056846, 5804.710901670971, 41.73926808864347, 103.55745460168669, 7.171559453202559, 15.317325464505155]\n",
      "l1_penalty = 6.951928e+08, nonzeros = 17\n",
      "[61121.28202435141, 6842.360515558534, 307.90366016220366, 24063.60958749422, 38.40964739069744, 1066.2493764885905, 0.0, 100.19355929110365, 17539.440783134876, 9755.40223411253, 366774.0845431443, 77282.29881258898, 4811.239971932414, 5697.413131741469, 41.30948758268925, 98.47108255285787, 6.566249512807699, 4.170973622792697]\n",
      "l1_penalty = 8.858668e+08, nonzeros = 16\n",
      "[72653.76283566156, 6537.498538782985, 135.20364887523834, 23681.23672270433, 38.19186469605985, 1049.3914965059957, 0.0, 83.22101625263917, 16527.63470379286, 8889.544638755358, 301854.63361377607, 72780.67609363608, 4313.382092011934, 5553.897040346681, 40.7353790102126, 91.90796363449786, 5.768965880750402, 0.0]\n",
      "l1_penalty = 1.128838e+09, nonzeros = 15\n",
      "[87298.82768111023, 6137.401722507512, 0.0, 23168.695279017622, 37.888523607022655, 1026.7096995183604, 0.0, 60.07198525926946, 15213.029420315976, 7778.835387674354, 217190.05177959352, 66808.73953276862, 3671.7283384428592, 5365.154612437338, 39.98228133899241, 83.36603089083604, 4.731371459705284, 0.0]\n",
      "l1_penalty = 1.438450e+09, nonzeros = 15\n",
      "[105843.80001578903, 5589.854102063284, 0.0, 22460.65593129862, 37.44845537114538, 995.1398159253142, 0.0, 29.061521925672103, 13469.249093949686, 6335.036737559216, 108231.30249081174, 59040.0488286964, 2826.4541225535186, 5110.134780587122, 38.967097464888575, 72.26234271807698, 3.3529134234043303, 0.0]\n",
      "l1_penalty = 1.832981e+09, nonzeros = 13\n",
      "[129178.71422833431, 4784.470900916188, 0.0, 21417.82247390828, 36.746069422594104, 947.9643280998356, 0.0, 0.0, 11067.154171923888, 4415.509049749234, 0.0, 48905.91595294178, 1667.8408359940804, 4746.515940254014, 37.51770516667074, 57.65691780061201, 1.4476431298936026, 0.0]\n",
      "l1_penalty = 2.335721e+09, nonzeros = 12\n",
      "[158796.2009043941, 3707.139629247276, 0.0, 19985.9978368454, 35.69739787089122, 882.788902804768, 0.0, 0.0, 7920.125236104686, 1926.9305157514896, 0.0, 32825.29786868613, 150.01433049590617, 4258.6630223491375, 35.527476868788746, 38.19405090777188, 0.0, 0.0]\n",
      "l1_penalty = 2.976351e+09, nonzeros = 10\n",
      "[196100.9378056226, 2181.574321070697, 0.0, 17962.696661157814, 34.14246565122554, 789.319789078241, 0.0, 0.0, 3665.930817596536, 0.0, 0.0, 11333.841030833106, 0.0, 3578.900400438109, 32.74320137175829, 12.795381135944636, 0.0, 0.0]\n",
      "l1_penalty = 3.792690e+09, nonzeros = 6\n",
      "[240309.75931983022, 0.0, 0.0, 13840.639957731408, 30.558358829776964, 592.1994692127664, 0.0, 0.0, 0.0, 0.0, 0.0, 0.0, 0.0, 2265.1205255597065, 27.48787265676394, 0.0, 0.0, 0.0]\n",
      "l1_penalty = 4.832930e+09, nonzeros = 5\n",
      "[291783.6780653794, 0.0, 0.0, 6104.325765458841, 23.170124302102437, 215.03093436538566, 0.0, 0.0, 0.0, 0.0, 0.0, 0.0, 0.0, 0.0, 18.407474015439522, 0.0, 0.0, 0.0]\n",
      "l1_penalty = 6.158482e+09, nonzeros = 3\n",
      "[352383.2203918056, 0.0, 0.0, 0.0, 11.508825781283852, 0.0, 0.0, 0.0, 0.0, 0.0, 0.0, 0.0, 0.0, 0.0, 4.663435035929748, 0.0, 0.0, 0.0]\n",
      "l1_penalty = 7.847600e+09, nonzeros = 1\n",
      "[507987.9627437027, 0.0, 0.0, 0.0, 0.0, 0.0, 0.0, 0.0, 0.0, 0.0, 0.0, 0.0, 0.0, 0.0, 0.0, 0.0, 0.0, 0.0]\n",
      "l1_penalty = 1.000000e+10, nonzeros = 1\n",
      "[564482.1368441753, 0.0, 0.0, 0.0, 0.0, 0.0, 0.0, 0.0, 0.0, 0.0, 0.0, 0.0, 0.0, 0.0, 0.0, 0.0, 0.0, 0.0]\n"
     ]
    }
   ],
   "source": [
    "nonzeros_dict = dict()\n",
    "for l1_penalty in l1_penalty_values:\n",
    "    lasso_model = graphlab.linear_regression.create(training, target='price', features=all_features,\n",
    "                                              validation_set=None, verbose=False,\n",
    "                                              l2_penalty=0., l1_penalty=l1_penalty)\n",
    "    nonzero = (lasso_model.coefficients['value']).nnz()\n",
    "    nonzeros_dict[l1_penalty] = nonzeros_dict.get(l1_penalty, nonzero)\n",
    "    print 'l1_penalty = %e, nonzeros = %d' % (l1_penalty, nonzero)\n",
    "    print lasso_model.coefficients['value']\n"
   ]
  },
  {
   "cell_type": "markdown",
   "metadata": {},
   "source": [
    "Out of this large range, we want to find the two ends of our desired narrow range of `l1_penalty`.  At one end, we will have `l1_penalty` values that have too few non-zeros, and at the other end, we will have an `l1_penalty` that has too many non-zeros.  \n",
    "\n",
    "More formally, find:\n",
    "* The largest `l1_penalty` that has more non-zeros than `max_nonzero` (if we pick a penalty smaller than this value, we will definitely have too many non-zero weights)\n",
    "    * Store this value in the variable `l1_penalty_min` (we will use it later)\n",
    "* The smallest `l1_penalty` that has fewer non-zeros than `max_nonzero` (if we pick a penalty larger than this value, we will definitely have too few non-zero weights)\n",
    "    * Store this value in the variable `l1_penalty_max` (we will use it later)\n",
    "\n",
    "\n",
    "*Hint: there are many ways to do this, e.g.:*\n",
    "* Programmatically within the loop above\n",
    "* Creating a list with the number of non-zeros for each value of `l1_penalty` and inspecting it to find the appropriate boundaries."
   ]
  },
  {
   "cell_type": "markdown",
   "metadata": {},
   "source": [
    "***QUIZ QUESTIONS***\n",
    "\n",
    "What values did you find for `l1_penalty_min` and`l1_penalty_max`? "
   ]
  },
  {
   "cell_type": "code",
   "execution_count": 16,
   "metadata": {
    "collapsed": true
   },
   "outputs": [],
   "source": [
    "l1_penalty_min = 2.976351e+09 \n",
    "l1_penalty_max = 3.792690e+09"
   ]
  },
  {
   "cell_type": "markdown",
   "metadata": {},
   "source": [
    "## Exploring the narrow range of values to find the solution with the right number of non-zeros that has lowest RSS on the validation set \n",
    "\n",
    "We will now explore the narrow region of `l1_penalty` values we found:"
   ]
  },
  {
   "cell_type": "code",
   "execution_count": 17,
   "metadata": {
    "collapsed": true
   },
   "outputs": [],
   "source": [
    "l1_penalty_values = np.linspace(l1_penalty_min,l1_penalty_max,20)"
   ]
  },
  {
   "cell_type": "markdown",
   "metadata": {},
   "source": [
    "* For `l1_penalty` in `np.linspace(l1_penalty_min,l1_penalty_max,20)`:\n",
    "    * Fit a regression model with a given `l1_penalty` on TRAIN data. Specify `l1_penalty=l1_penalty` and `l2_penalty=0.` in the parameter list. When you call `linear_regression.create()` make sure you set `validation_set = None`\n",
    "    * Measure the RSS of the learned model on the VALIDATION set\n",
    "\n",
    "Find the model that the lowest RSS on the VALIDATION set and has sparsity *equal* to `max_nonzero`."
   ]
  },
  {
   "cell_type": "code",
   "execution_count": 18,
   "metadata": {
    "collapsed": false
   },
   "outputs": [
    {
     "name": "stdout",
     "output_type": "stream",
     "text": [
      "l1_penalty = 2976351000.000000, RSS = 966925608279538.250000, non_zeros = 10\n",
      "+------------------+-------+---------------+--------+\n",
      "|       name       | index |     value     | stderr |\n",
      "+------------------+-------+---------------+--------+\n",
      "|   (intercept)    |  None | 196100.908463 |  None  |\n",
      "|     bedrooms     |  None | 2181.57568643 |  None  |\n",
      "| bedrooms_square  |  None |      0.0      |  None  |\n",
      "|    bathrooms     |  None | 17962.6984763 |  None  |\n",
      "|   sqft_living    |  None | 34.1424670927 |  None  |\n",
      "| sqft_living_sqrt |  None | 789.319874138 |  None  |\n",
      "|     sqft_lot     |  None |      0.0      |  None  |\n",
      "|  sqft_lot_sqrt   |  None |      0.0      |  None  |\n",
      "|      floors      |  None | 3665.93448461 |  None  |\n",
      "|  floors_square   |  None |      0.0      |  None  |\n",
      "|    waterfront    |  None |      0.0      |  None  |\n",
      "|       view       |  None |  11333.858388 |  None  |\n",
      "|    condition     |  None |      0.0      |  None  |\n",
      "|      grade       |  None | 3578.90100398 |  None  |\n",
      "|    sqft_above    |  None | 32.7432038262 |  None  |\n",
      "|  sqft_basement   |  None | 12.7954019281 |  None  |\n",
      "|     yr_built     |  None |      0.0      |  None  |\n",
      "|   yr_renovated   |  None |      0.0      |  None  |\n",
      "+------------------+-------+---------------+--------+\n",
      "[18 rows x 4 columns]\n",
      "\n",
      "l1_penalty = 3019316210.526316, RSS = 974019365098597.625000, non_zeros = 10\n",
      "+------------------+-------+---------------+--------+\n",
      "|       name       | index |     value     | stderr |\n",
      "+------------------+-------+---------------+--------+\n",
      "|   (intercept)    |  None | 198563.216875 |  None  |\n",
      "|     bedrooms     |  None | 2067.01652048 |  None  |\n",
      "| bedrooms_square  |  None |      0.0      |  None  |\n",
      "|    bathrooms     |  None | 17810.3894127 |  None  |\n",
      "|   sqft_living    |  None | 34.0215117469 |  None  |\n",
      "| sqft_living_sqrt |  None | 782.182402743 |  None  |\n",
      "|     sqft_lot     |  None |      0.0      |  None  |\n",
      "|  sqft_lot_sqrt   |  None |      0.0      |  None  |\n",
      "|      floors      |  None | 3358.20697236 |  None  |\n",
      "|  floors_square   |  None |      0.0      |  None  |\n",
      "|    waterfront    |  None |      0.0      |  None  |\n",
      "|       view       |  None | 9876.75497966 |  None  |\n",
      "|    condition     |  None |      0.0      |  None  |\n",
      "|      grade       |  None | 3528.25561237 |  None  |\n",
      "|    sqft_above    |  None | 32.5372353756 |  None  |\n",
      "|  sqft_basement   |  None | 11.0507496456 |  None  |\n",
      "|     yr_built     |  None |      0.0      |  None  |\n",
      "|   yr_renovated   |  None |      0.0      |  None  |\n",
      "+------------------+-------+---------------+--------+\n",
      "[18 rows x 4 columns]\n",
      "\n",
      "l1_penalty = 3062281421.052631, RSS = 981188325005745.750000, non_zeros = 10\n",
      "+------------------+-------+---------------+--------+\n",
      "|       name       | index |     value     | stderr |\n",
      "+------------------+-------+---------------+--------+\n",
      "|   (intercept)    |  None | 201025.545734 |  None  |\n",
      "|     bedrooms     |  None | 1952.47717207 |  None  |\n",
      "| bedrooms_square  |  None |      0.0      |  None  |\n",
      "|    bathrooms     |  None |  17658.090404 |  None  |\n",
      "|   sqft_living    |  None | 33.9005660753 |  None  |\n",
      "| sqft_living_sqrt |  None | 775.045471074 |  None  |\n",
      "|     sqft_lot     |  None |      0.0      |  None  |\n",
      "|  sqft_lot_sqrt   |  None |      0.0      |  None  |\n",
      "|      floors      |  None |  3050.4740276 |  None  |\n",
      "|  floors_square   |  None |      0.0      |  None  |\n",
      "|    waterfront    |  None |      0.0      |  None  |\n",
      "|       view       |  None | 8418.99574479 |  None  |\n",
      "|    condition     |  None |      0.0      |  None  |\n",
      "|      grade       |  None | 3477.61246792 |  None  |\n",
      "|    sqft_above    |  None | 32.3312668257 |  None  |\n",
      "|  sqft_basement   |  None | 9.30627760748 |  None  |\n",
      "|     yr_built     |  None |      0.0      |  None  |\n",
      "|   yr_renovated   |  None |      0.0      |  None  |\n",
      "+------------------+-------+---------------+--------+\n",
      "[18 rows x 4 columns]\n",
      "\n",
      "l1_penalty = 3105246631.578948, RSS = 989328293175839.125000, non_zeros = 10\n",
      "+------------------+-------+---------------+--------+\n",
      "|       name       | index |     value     | stderr |\n",
      "+------------------+-------+---------------+--------+\n",
      "|   (intercept)    |  None | 203443.586618 |  None  |\n",
      "|     bedrooms     |  None | 1825.78940439 |  None  |\n",
      "| bedrooms_square  |  None |      0.0      |  None  |\n",
      "|    bathrooms     |  None | 17487.4933779 |  None  |\n",
      "|   sqft_living    |  None | 33.7619946314 |  None  |\n",
      "| sqft_living_sqrt |  None | 766.963213762 |  None  |\n",
      "|     sqft_lot     |  None |      0.0      |  None  |\n",
      "|  sqft_lot_sqrt   |  None |      0.0      |  None  |\n",
      "|      floors      |  None | 2716.80962452 |  None  |\n",
      "|  floors_square   |  None |      0.0      |  None  |\n",
      "|    waterfront    |  None |      0.0      |  None  |\n",
      "|       view       |  None | 6944.37495684 |  None  |\n",
      "|    condition     |  None |      0.0      |  None  |\n",
      "|      grade       |  None | 3421.35069092 |  None  |\n",
      "|    sqft_above    |  None |  32.105324515 |  None  |\n",
      "|  sqft_basement   |  None | 7.51316195159 |  None  |\n",
      "|     yr_built     |  None |      0.0      |  None  |\n",
      "|   yr_renovated   |  None |      0.0      |  None  |\n",
      "+------------------+-------+---------------+--------+\n",
      "[18 rows x 4 columns]\n",
      "\n",
      "l1_penalty = 3148211842.105263, RSS = 998783153886670.875000, non_zeros = 10\n",
      "+------------------+-------+---------------+--------+\n",
      "|       name       | index |     value     | stderr |\n",
      "+------------------+-------+---------------+--------+\n",
      "|   (intercept)    |  None | 205805.885457 |  None  |\n",
      "|     bedrooms     |  None | 1683.39429824 |  None  |\n",
      "| bedrooms_square  |  None |      0.0      |  None  |\n",
      "|    bathrooms     |  None |  17291.037213 |  None  |\n",
      "|   sqft_living    |  None | 33.5989961929 |  None  |\n",
      "| sqft_living_sqrt |  None |  757.63179175 |  None  |\n",
      "|     sqft_lot     |  None |      0.0      |  None  |\n",
      "|  sqft_lot_sqrt   |  None |      0.0      |  None  |\n",
      "|      floors      |  None | 2342.21058556 |  None  |\n",
      "|  floors_square   |  None |      0.0      |  None  |\n",
      "|    waterfront    |  None |      0.0      |  None  |\n",
      "|       view       |  None | 5448.03243626 |  None  |\n",
      "|    condition     |  None |      0.0      |  None  |\n",
      "|      grade       |  None |  3357.6717674 |  None  |\n",
      "|    sqft_above    |  None | 31.8500813995 |  None  |\n",
      "|  sqft_basement   |  None | 5.67511575556 |  None  |\n",
      "|     yr_built     |  None |      0.0      |  None  |\n",
      "|   yr_renovated   |  None |      0.0      |  None  |\n",
      "+------------------+-------+---------------+--------+\n",
      "[18 rows x 4 columns]\n",
      "\n",
      "l1_penalty = 3191177052.631579, RSS = 1008477050740413.000000, non_zeros = 10\n",
      "+------------------+-------+---------------+--------+\n",
      "|       name       | index |     value     | stderr |\n",
      "+------------------+-------+---------------+--------+\n",
      "|   (intercept)    |  None | 208163.047374 |  None  |\n",
      "|     bedrooms     |  None | 1539.55308308 |  None  |\n",
      "| bedrooms_square  |  None |      0.0      |  None  |\n",
      "|    bathrooms     |  None | 17092.1843365 |  None  |\n",
      "|   sqft_living    |  None |  33.433736346 |  None  |\n",
      "| sqft_living_sqrt |  None | 748.185160971 |  None  |\n",
      "|     sqft_lot     |  None |      0.0      |  None  |\n",
      "|  sqft_lot_sqrt   |  None |      0.0      |  None  |\n",
      "|      floors      |  None | 1963.78950306 |  None  |\n",
      "|  floors_square   |  None |      0.0      |  None  |\n",
      "|    waterfront    |  None |      0.0      |  None  |\n",
      "|       view       |  None | 3949.70320373 |  None  |\n",
      "|    condition     |  None |      0.0      |  None  |\n",
      "|      grade       |  None |  3293.3088473 |  None  |\n",
      "|    sqft_above    |  None | 31.5921148228 |  None  |\n",
      "|  sqft_basement   |  None | 3.83307459083 |  None  |\n",
      "|     yr_built     |  None |      0.0      |  None  |\n",
      "|   yr_renovated   |  None |      0.0      |  None  |\n",
      "+------------------+-------+---------------+--------+\n",
      "[18 rows x 4 columns]\n",
      "\n",
      "l1_penalty = 3234142263.157895, RSS = 1018298662752890.000000, non_zeros = 10\n",
      "+------------------+-------+---------------+--------+\n",
      "|       name       | index |     value     | stderr |\n",
      "+------------------+-------+---------------+--------+\n",
      "|   (intercept)    |  None | 210520.223335 |  None  |\n",
      "|     bedrooms     |  None | 1395.71101086 |  None  |\n",
      "| bedrooms_square  |  None |      0.0      |  None  |\n",
      "|    bathrooms     |  None | 16893.3302751 |  None  |\n",
      "|   sqft_living    |  None | 33.2684755145 |  None  |\n",
      "| sqft_living_sqrt |  None | 738.738473905 |  None  |\n",
      "|     sqft_lot     |  None |      0.0      |  None  |\n",
      "|  sqft_lot_sqrt   |  None |      0.0      |  None  |\n",
      "|      floors      |  None | 1585.36616579 |  None  |\n",
      "|  floors_square   |  None |      0.0      |  None  |\n",
      "|    waterfront    |  None |      0.0      |  None  |\n",
      "|       view       |  None | 2451.36504365 |  None  |\n",
      "|    condition     |  None |      0.0      |  None  |\n",
      "|      grade       |  None | 3228.94554371 |  None  |\n",
      "|    sqft_above    |  None |  31.334146709 |  None  |\n",
      "|  sqft_basement   |  None |  1.9910224506 |  None  |\n",
      "|     yr_built     |  None |      0.0      |  None  |\n",
      "|   yr_renovated   |  None |      0.0      |  None  |\n",
      "+------------------+-------+---------------+--------+\n",
      "[18 rows x 4 columns]\n",
      "\n",
      "l1_penalty = 3277107473.684210, RSS = 1028247932544890.750000, non_zeros = 10\n",
      "+------------------+-------+----------------+--------+\n",
      "|       name       | index |     value      | stderr |\n",
      "+------------------+-------+----------------+--------+\n",
      "|   (intercept)    |  None | 212877.399297  |  None  |\n",
      "|     bedrooms     |  None | 1251.86893865  |  None  |\n",
      "| bedrooms_square  |  None |      0.0       |  None  |\n",
      "|    bathrooms     |  None | 16694.4762137  |  None  |\n",
      "|   sqft_living    |  None |  33.103214683  |  None  |\n",
      "| sqft_living_sqrt |  None | 729.291786839  |  None  |\n",
      "|     sqft_lot     |  None |      0.0       |  None  |\n",
      "|  sqft_lot_sqrt   |  None |      0.0       |  None  |\n",
      "|      floors      |  None | 1206.94282853  |  None  |\n",
      "|  floors_square   |  None |      0.0       |  None  |\n",
      "|    waterfront    |  None |      0.0       |  None  |\n",
      "|       view       |  None | 953.026883565  |  None  |\n",
      "|    condition     |  None |      0.0       |  None  |\n",
      "|      grade       |  None | 3164.58224011  |  None  |\n",
      "|    sqft_above    |  None | 31.0761785953  |  None  |\n",
      "|  sqft_basement   |  None | 0.148970310369 |  None  |\n",
      "|     yr_built     |  None |      0.0       |  None  |\n",
      "|   yr_renovated   |  None |      0.0       |  None  |\n",
      "+------------------+-------+----------------+--------+\n",
      "[18 rows x 4 columns]\n",
      "\n",
      "l1_penalty = 3320072684.210526, RSS = 1034616885842896.500000, non_zeros = 8\n",
      "+------------------+-------+---------------+--------+\n",
      "|       name       | index |     value     | stderr |\n",
      "+------------------+-------+---------------+--------+\n",
      "|   (intercept)    |  None | 215235.589566 |  None  |\n",
      "|     bedrooms     |  None | 1108.37040547 |  None  |\n",
      "| bedrooms_square  |  None |      0.0      |  None  |\n",
      "|    bathrooms     |  None |  16496.237238 |  None  |\n",
      "|   sqft_living    |  None | 32.9384128175 |  None  |\n",
      "| sqft_living_sqrt |  None | 719.868497312 |  None  |\n",
      "|     sqft_lot     |  None |      0.0      |  None  |\n",
      "|  sqft_lot_sqrt   |  None |      0.0      |  None  |\n",
      "|      floors      |  None | 829.562285647 |  None  |\n",
      "|  floors_square   |  None |      0.0      |  None  |\n",
      "|    waterfront    |  None |      0.0      |  None  |\n",
      "|       view       |  None |      0.0      |  None  |\n",
      "|    condition     |  None |      0.0      |  None  |\n",
      "|      grade       |  None | 3100.36029912 |  None  |\n",
      "|    sqft_above    |  None | 30.8186668129 |  None  |\n",
      "|  sqft_basement   |  None |      0.0      |  None  |\n",
      "|     yr_built     |  None |      0.0      |  None  |\n",
      "|   yr_renovated   |  None |      0.0      |  None  |\n",
      "+------------------+-------+---------------+--------+\n",
      "[18 rows x 4 columns]\n",
      "\n",
      "l1_penalty = 3363037894.736842, RSS = 1038554712405435.500000, non_zeros = 8\n",
      "+------------------+-------+---------------+--------+\n",
      "|       name       | index |     value     | stderr |\n",
      "+------------------+-------+---------------+--------+\n",
      "|   (intercept)    |  None | 217598.289737 |  None  |\n",
      "|     bedrooms     |  None | 966.399346181 |  None  |\n",
      "| bedrooms_square  |  None |      0.0      |  None  |\n",
      "|    bathrooms     |  None | 16300.7331112 |  None  |\n",
      "|   sqft_living    |  None | 32.7756516475 |  None  |\n",
      "| sqft_living_sqrt |  None | 710.549240008 |  None  |\n",
      "|     sqft_lot     |  None |      0.0      |  None  |\n",
      "|  sqft_lot_sqrt   |  None |      0.0      |  None  |\n",
      "|      floors      |  None | 456.818308122 |  None  |\n",
      "|  floors_square   |  None |      0.0      |  None  |\n",
      "|    waterfront    |  None |      0.0      |  None  |\n",
      "|       view       |  None |      0.0      |  None  |\n",
      "|    condition     |  None |      0.0      |  None  |\n",
      "|      grade       |  None | 3036.76689715 |  None  |\n",
      "|    sqft_above    |  None | 30.5631840121 |  None  |\n",
      "|  sqft_basement   |  None |      0.0      |  None  |\n",
      "|     yr_built     |  None |      0.0      |  None  |\n",
      "|   yr_renovated   |  None |      0.0      |  None  |\n",
      "+------------------+-------+---------------+--------+\n",
      "[18 rows x 4 columns]\n",
      "\n",
      "l1_penalty = 3406003105.263158, RSS = 1043237208811154.250000, non_zeros = 8\n",
      "+------------------+-------+---------------+--------+\n",
      "|       name       | index |     value     | stderr |\n",
      "+------------------+-------+---------------+--------+\n",
      "|   (intercept)    |  None | 219929.843124 |  None  |\n",
      "|     bedrooms     |  None |  815.27710603 |  None  |\n",
      "| bedrooms_square  |  None |      0.0      |  None  |\n",
      "|    bathrooms     |  None | 16089.4944709 |  None  |\n",
      "|   sqft_living    |  None | 32.5953987016 |  None  |\n",
      "| sqft_living_sqrt |  None | 700.439955707 |  None  |\n",
      "|     sqft_lot     |  None |      0.0      |  None  |\n",
      "|  sqft_lot_sqrt   |  None |      0.0      |  None  |\n",
      "|      floors      |  None | 64.8236090039 |  None  |\n",
      "|  floors_square   |  None |      0.0      |  None  |\n",
      "|    waterfront    |  None |      0.0      |  None  |\n",
      "|       view       |  None |      0.0      |  None  |\n",
      "|    condition     |  None |      0.0      |  None  |\n",
      "|      grade       |  None | 2968.70022214 |  None  |\n",
      "|    sqft_above    |  None | 30.2898351395 |  None  |\n",
      "|  sqft_basement   |  None |      0.0      |  None  |\n",
      "|     yr_built     |  None |      0.0      |  None  |\n",
      "|   yr_renovated   |  None |      0.0      |  None  |\n",
      "+------------------+-------+---------------+--------+\n",
      "[18 rows x 4 columns]\n",
      "\n",
      "l1_penalty = 3448968315.789474, RSS = 1046937444590445.500000, non_zeros = 7\n",
      "+------------------+-------+---------------+--------+\n",
      "|       name       | index |     value     | stderr |\n",
      "+------------------+-------+---------------+--------+\n",
      "|   (intercept)    |  None | 222253.164946 |  None  |\n",
      "|     bedrooms     |  None | 661.724576016 |  None  |\n",
      "| bedrooms_square  |  None |      0.0      |  None  |\n",
      "|    bathrooms     |  None | 15873.9598946 |  None  |\n",
      "|   sqft_living    |  None | 32.4102237547 |  None  |\n",
      "| sqft_living_sqrt |  None |  690.11489972 |  None  |\n",
      "|     sqft_lot     |  None |      0.0      |  None  |\n",
      "|  sqft_lot_sqrt   |  None |      0.0      |  None  |\n",
      "|      floors      |  None |      0.0      |  None  |\n",
      "|  floors_square   |  None |      0.0      |  None  |\n",
      "|    waterfront    |  None |      0.0      |  None  |\n",
      "|       view       |  None |      0.0      |  None  |\n",
      "|    condition     |  None |      0.0      |  None  |\n",
      "|      grade       |  None | 2899.42111297 |  None  |\n",
      "|    sqft_above    |  None | 30.0115786986 |  None  |\n",
      "|  sqft_basement   |  None |      0.0      |  None  |\n",
      "|     yr_built     |  None |      0.0      |  None  |\n",
      "|   yr_renovated   |  None |      0.0      |  None  |\n",
      "+------------------+-------+---------------+--------+\n",
      "[18 rows x 4 columns]\n",
      "\n",
      "l1_penalty = 3491933526.315789, RSS = 1051147596845331.750000, non_zeros = 7\n",
      "+------------------+-------+---------------+--------+\n",
      "|       name       | index |     value     | stderr |\n",
      "+------------------+-------+---------------+--------+\n",
      "|   (intercept)    |  None | 224545.123024 |  None  |\n",
      "|     bedrooms     |  None | 496.984471992 |  None  |\n",
      "| bedrooms_square  |  None |      0.0      |  None  |\n",
      "|    bathrooms     |  None |  15640.82439  |  None  |\n",
      "|   sqft_living    |  None | 32.2039355232 |  None  |\n",
      "| sqft_living_sqrt |  None | 678.904490585 |  None  |\n",
      "|     sqft_lot     |  None |      0.0      |  None  |\n",
      "|  sqft_lot_sqrt   |  None |      0.0      |  None  |\n",
      "|      floors      |  None |      0.0      |  None  |\n",
      "|  floors_square   |  None |      0.0      |  None  |\n",
      "|    waterfront    |  None |      0.0      |  None  |\n",
      "|       view       |  None |      0.0      |  None  |\n",
      "|    condition     |  None |      0.0      |  None  |\n",
      "|      grade       |  None |  2825.4698898 |  None  |\n",
      "|    sqft_above    |  None |  29.71560162  |  None  |\n",
      "|  sqft_basement   |  None |      0.0      |  None  |\n",
      "|     yr_built     |  None |      0.0      |  None  |\n",
      "|   yr_renovated   |  None |      0.0      |  None  |\n",
      "+------------------+-------+---------------+--------+\n",
      "[18 rows x 4 columns]\n",
      "\n",
      "l1_penalty = 3534898736.842105, RSS = 1055992706373260.250000, non_zeros = 7\n",
      "+------------------+-------+---------------+--------+\n",
      "|       name       | index |     value     | stderr |\n",
      "+------------------+-------+---------------+--------+\n",
      "|   (intercept)    |  None | 226807.033756 |  None  |\n",
      "|     bedrooms     |  None | 322.099930452 |  None  |\n",
      "| bedrooms_square  |  None |      0.0      |  None  |\n",
      "|    bathrooms     |  None | 15392.9579992 |  None  |\n",
      "|   sqft_living    |  None | 31.9817567307 |  None  |\n",
      "| sqft_living_sqrt |  None | 666.949975305 |  None  |\n",
      "|     sqft_lot     |  None |      0.0      |  None  |\n",
      "|  sqft_lot_sqrt   |  None |      0.0      |  None  |\n",
      "|      floors      |  None |      0.0      |  None  |\n",
      "|  floors_square   |  None |      0.0      |  None  |\n",
      "|    waterfront    |  None |      0.0      |  None  |\n",
      "|       view       |  None |      0.0      |  None  |\n",
      "|    condition     |  None |      0.0      |  None  |\n",
      "|      grade       |  None | 2747.52834005 |  None  |\n",
      "|    sqft_above    |  None | 29.4061097297 |  None  |\n",
      "|  sqft_basement   |  None |      0.0      |  None  |\n",
      "|     yr_built     |  None |      0.0      |  None  |\n",
      "|   yr_renovated   |  None |      0.0      |  None  |\n",
      "+------------------+-------+---------------+--------+\n",
      "[18 rows x 4 columns]\n",
      "\n",
      "l1_penalty = 3577863947.368421, RSS = 1060799503072240.000000, non_zeros = 7\n",
      "+------------------+-------+---------------+--------+\n",
      "|       name       | index |     value     | stderr |\n",
      "+------------------+-------+---------------+--------+\n",
      "|   (intercept)    |  None | 229077.861912 |  None  |\n",
      "|     bedrooms     |  None | 149.418535954 |  None  |\n",
      "| bedrooms_square  |  None |      0.0      |  None  |\n",
      "|    bathrooms     |  None | 15146.7407416 |  None  |\n",
      "|   sqft_living    |  None | 31.7586391142 |  None  |\n",
      "| sqft_living_sqrt |  None | 655.078319461 |  None  |\n",
      "|     sqft_lot     |  None |      0.0      |  None  |\n",
      "|  sqft_lot_sqrt   |  None |      0.0      |  None  |\n",
      "|      floors      |  None |      0.0      |  None  |\n",
      "|  floors_square   |  None |      0.0      |  None  |\n",
      "|    waterfront    |  None |      0.0      |  None  |\n",
      "|       view       |  None |      0.0      |  None  |\n",
      "|    condition     |  None |      0.0      |  None  |\n",
      "|      grade       |  None | 2670.25110397 |  None  |\n",
      "|    sqft_above    |  None | 29.0979681404 |  None  |\n",
      "|  sqft_basement   |  None |      0.0      |  None  |\n",
      "|     yr_built     |  None |      0.0      |  None  |\n",
      "|   yr_renovated   |  None |      0.0      |  None  |\n",
      "+------------------+-------+---------------+--------+\n",
      "[18 rows x 4 columns]\n",
      "\n",
      "l1_penalty = 3620829157.894737, RSS = 1065707667166346.250000, non_zeros = 6\n",
      "+------------------+-------+---------------+--------+\n",
      "|       name       | index |     value     | stderr |\n",
      "+------------------+-------+---------------+--------+\n",
      "|   (intercept)    |  None | 231334.895797 |  None  |\n",
      "|     bedrooms     |  None |      0.0      |  None  |\n",
      "| bedrooms_square  |  None |      0.0      |  None  |\n",
      "|    bathrooms     |  None | 14893.0010124 |  None  |\n",
      "|   sqft_living    |  None | 31.5287772234 |  None  |\n",
      "| sqft_living_sqrt |  None | 642.879489981 |  None  |\n",
      "|     sqft_lot     |  None |      0.0      |  None  |\n",
      "|  sqft_lot_sqrt   |  None |      0.0      |  None  |\n",
      "|      floors      |  None |      0.0      |  None  |\n",
      "|  floors_square   |  None |      0.0      |  None  |\n",
      "|    waterfront    |  None |      0.0      |  None  |\n",
      "|       view       |  None |      0.0      |  None  |\n",
      "|    condition     |  None |      0.0      |  None  |\n",
      "|      grade       |  None | 2590.98240021 |  None  |\n",
      "|    sqft_above    |  None |  28.781059291 |  None  |\n",
      "|  sqft_basement   |  None |      0.0      |  None  |\n",
      "|     yr_built     |  None |      0.0      |  None  |\n",
      "|   yr_renovated   |  None |      0.0      |  None  |\n",
      "+------------------+-------+---------------+--------+\n",
      "[18 rows x 4 columns]\n",
      "\n",
      "l1_penalty = 3663794368.421052, RSS = 1069464312990994.125000, non_zeros = 6\n",
      "+------------------+-------+---------------+--------+\n",
      "|       name       | index |     value     | stderr |\n",
      "+------------------+-------+---------------+--------+\n",
      "|   (intercept)    |  None | 233587.828662 |  None  |\n",
      "|     bedrooms     |  None |      0.0      |  None  |\n",
      "| bedrooms_square  |  None |      0.0      |  None  |\n",
      "|    bathrooms     |  None | 14637.1218065 |  None  |\n",
      "|   sqft_living    |  None | 31.2970701036 |  None  |\n",
      "| sqft_living_sqrt |  None | 630.587272734 |  None  |\n",
      "|     sqft_lot     |  None |      0.0      |  None  |\n",
      "|  sqft_lot_sqrt   |  None |      0.0      |  None  |\n",
      "|      floors      |  None |      0.0      |  None  |\n",
      "|  floors_square   |  None |      0.0      |  None  |\n",
      "|    waterfront    |  None |      0.0      |  None  |\n",
      "|       view       |  None |      0.0      |  None  |\n",
      "|    condition     |  None |      0.0      |  None  |\n",
      "|      grade       |  None | 2511.14043092 |  None  |\n",
      "|    sqft_above    |  None | 28.4616741789 |  None  |\n",
      "|  sqft_basement   |  None |      0.0      |  None  |\n",
      "|     yr_built     |  None |      0.0      |  None  |\n",
      "|   yr_renovated   |  None |      0.0      |  None  |\n",
      "+------------------+-------+---------------+--------+\n",
      "[18 rows x 4 columns]\n",
      "\n",
      "l1_penalty = 3706759578.947369, RSS = 1073504549585599.625000, non_zeros = 6\n",
      "+------------------+-------+---------------+--------+\n",
      "|       name       | index |     value     | stderr |\n",
      "+------------------+-------+---------------+--------+\n",
      "|   (intercept)    |  None | 235832.551542 |  None  |\n",
      "|     bedrooms     |  None |      0.0      |  None  |\n",
      "| bedrooms_square  |  None |      0.0      |  None  |\n",
      "|    bathrooms     |  None | 14373.6503925 |  None  |\n",
      "|   sqft_living    |  None | 31.0532265345 |  None  |\n",
      "| sqft_living_sqrt |  None | 617.898021947 |  None  |\n",
      "|     sqft_lot     |  None |      0.0      |  None  |\n",
      "|  sqft_lot_sqrt   |  None |      0.0      |  None  |\n",
      "|      floors      |  None |      0.0      |  None  |\n",
      "|  floors_square   |  None |      0.0      |  None  |\n",
      "|    waterfront    |  None |      0.0      |  None  |\n",
      "|       view       |  None |      0.0      |  None  |\n",
      "|    condition     |  None |      0.0      |  None  |\n",
      "|      grade       |  None | 2429.68001481 |  None  |\n",
      "|    sqft_above    |  None | 28.1385016491 |  None  |\n",
      "|  sqft_basement   |  None |      0.0      |  None  |\n",
      "|     yr_built     |  None |      0.0      |  None  |\n",
      "|   yr_renovated   |  None |      0.0      |  None  |\n",
      "+------------------+-------+---------------+--------+\n",
      "[18 rows x 4 columns]\n",
      "\n",
      "l1_penalty = 3749724789.473684, RSS = 1077632750923177.500000, non_zeros = 6\n",
      "+------------------+-------+---------------+--------+\n",
      "|       name       | index |     value     | stderr |\n",
      "+------------------+-------+---------------+--------+\n",
      "|   (intercept)    |  None | 238074.123005 |  None  |\n",
      "|     bedrooms     |  None |      0.0      |  None  |\n",
      "| bedrooms_square  |  None |      0.0      |  None  |\n",
      "|    bathrooms     |  None | 14108.2277992 |  None  |\n",
      "|   sqft_living    |  None | 30.8067790301 |  None  |\n",
      "| sqft_living_sqrt |  None | 605.107199406 |  None  |\n",
      "|     sqft_lot     |  None |      0.0      |  None  |\n",
      "|  sqft_lot_sqrt   |  None |      0.0      |  None  |\n",
      "|      floors      |  None |      0.0      |  None  |\n",
      "|  floors_square   |  None |      0.0      |  None  |\n",
      "|    waterfront    |  None |      0.0      |  None  |\n",
      "|       view       |  None |      0.0      |  None  |\n",
      "|    condition     |  None |      0.0      |  None  |\n",
      "|      grade       |  None | 2347.76123868 |  None  |\n",
      "|    sqft_above    |  None |  27.814310883 |  None  |\n",
      "|  sqft_basement   |  None |      0.0      |  None  |\n",
      "|     yr_built     |  None |      0.0      |  None  |\n",
      "|   yr_renovated   |  None |      0.0      |  None  |\n",
      "+------------------+-------+---------------+--------+\n",
      "[18 rows x 4 columns]\n",
      "\n",
      "l1_penalty = 3792690000.000000, RSS = 1081867565882124.750000, non_zeros = 6\n",
      "+------------------+-------+---------------+--------+\n",
      "|       name       | index |     value     | stderr |\n",
      "+------------------+-------+---------------+--------+\n",
      "|   (intercept)    |  None | 240309.746079 |  None  |\n",
      "|     bedrooms     |  None |      0.0      |  None  |\n",
      "| bedrooms_square  |  None |      0.0      |  None  |\n",
      "|    bathrooms     |  None | 13840.6415809 |  None  |\n",
      "|   sqft_living    |  None | 30.5583603361 |  None  |\n",
      "| sqft_living_sqrt |  None | 592.199547674 |  None  |\n",
      "|     sqft_lot     |  None |      0.0      |  None  |\n",
      "|  sqft_lot_sqrt   |  None |      0.0      |  None  |\n",
      "|      floors      |  None |      0.0      |  None  |\n",
      "|  floors_square   |  None |      0.0      |  None  |\n",
      "|    waterfront    |  None |      0.0      |  None  |\n",
      "|       view       |  None |      0.0      |  None  |\n",
      "|    condition     |  None |      0.0      |  None  |\n",
      "|      grade       |  None | 2265.12102755 |  None  |\n",
      "|    sqft_above    |  None | 27.4878746316 |  None  |\n",
      "|  sqft_basement   |  None |      0.0      |  None  |\n",
      "|     yr_built     |  None |      0.0      |  None  |\n",
      "|   yr_renovated   |  None |      0.0      |  None  |\n",
      "+------------------+-------+---------------+--------+\n",
      "[18 rows x 4 columns]\n",
      "\n"
     ]
    }
   ],
   "source": [
    "for l1_penalty in l1_penalty_values:\n",
    "    lasso_model_narrow = graphlab.linear_regression.create(training, target='price', features=all_features,\n",
    "                                              validation_set=None, verbose=False,\n",
    "                                              l2_penalty=0., l1_penalty=l1_penalty)\n",
    "    nonzero = (lasso_model_narrow.coefficients['value']).nnz()\n",
    "    predict_price_narrow = lasso_model_narrow.predict(validation)\n",
    "    term = predict_price_narrow- validation['price']\n",
    "    RSS = (term * term).sum()\n",
    "    RSS_list.append(RSS)\n",
    "    print 'l1_penalty = %f, RSS = %f, non_zeros = %d' % (l1_penalty, RSS, nonzero)\n",
    "    lasso_model_narrow.coefficients.print_rows(num_rows = 18)\n"
   ]
  },
  {
   "cell_type": "markdown",
   "metadata": {},
   "source": [
    "***QUIZ QUESTIONS***\n",
    "1. What value of `l1_penalty` in our narrow range has the lowest RSS on the VALIDATION set and has sparsity *equal* to `max_nonzeros`?\n",
    "2. What features in this model have non-zero coefficients?\n"
   ]
  },
  {
   "cell_type": "markdown",
   "metadata": {
    "collapsed": false
   },
   "source": [
    "**  l1_penalty = 3448968315.789474, RSS = 1046937444590445.500000, non_zeros = 7 **\n",
    "\n",
    "**\n",
    "```\n",
    "+------------------+-------+---------------+--------+\n",
    "|       name       | index |     value     | stderr |\n",
    "+------------------+-------+---------------+--------+\n",
    "|   (intercept)    |  None | 222253.164946 |  None  |\n",
    "|     bedrooms     |  None | 661.724576016 |  None  |\n",
    "| bedrooms_square  |  None |      0.0      |  None  |\n",
    "|    bathrooms     |  None | 15873.9598946 |  None  |\n",
    "|   sqft_living    |  None | 32.4102237547 |  None  |\n",
    "| sqft_living_sqrt |  None |  690.11489972 |  None  |\n",
    "|     sqft_lot     |  None |      0.0      |  None  |\n",
    "|  sqft_lot_sqrt   |  None |      0.0      |  None  |\n",
    "|      floors      |  None |      0.0      |  None  |\n",
    "|  floors_square   |  None |      0.0      |  None  |\n",
    "|    waterfront    |  None |      0.0      |  None  |\n",
    "|       view       |  None |      0.0      |  None  |\n",
    "|    condition     |  None |      0.0      |  None  |\n",
    "|      grade       |  None | 2899.42111297 |  None  |\n",
    "|    sqft_above    |  None | 30.0115786986 |  None  |\n",
    "|  sqft_basement   |  None |      0.0      |  None  |\n",
    "|     yr_built     |  None |      0.0      |  None  |\n",
    "|   yr_renovated   |  None |      0.0      |  None  |\n",
    "+------------------+-------+---------------+--------+\n",
    "[18 rows x 4 columns]\n",
    "```\n",
    "**"
   ]
  },
  {
   "cell_type": "code",
   "execution_count": null,
   "metadata": {
    "collapsed": true
   },
   "outputs": [],
   "source": []
  }
 ],
 "metadata": {
  "kernelspec": {
   "display_name": "Python 2",
   "language": "python",
   "name": "python2"
  },
  "language_info": {
   "codemirror_mode": {
    "name": "ipython",
    "version": 2
   },
   "file_extension": ".py",
   "mimetype": "text/x-python",
   "name": "python",
   "nbconvert_exporter": "python",
   "pygments_lexer": "ipython2",
   "version": "2.7.10"
  }
 },
 "nbformat": 4,
 "nbformat_minor": 0
}
